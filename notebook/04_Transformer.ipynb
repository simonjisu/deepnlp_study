{
 "cells": [
  {
   "cell_type": "code",
   "execution_count": 1,
   "metadata": {},
   "outputs": [],
   "source": [
    "import torch\n",
    "import torch.nn as nn\n",
    "import torch.nn.functional as F\n",
    "import torch.optim as optim\n",
    "import numpy as np\n",
    "import matplotlib.pylab as plt"
   ]
  },
  {
   "cell_type": "markdown",
   "metadata": {},
   "source": [
    "paper : https://arxiv.org/abs/1706.03762"
   ]
  },
  {
   "cell_type": "markdown",
   "metadata": {},
   "source": [
    "http://nlp.seas.harvard.edu/2018/04/03/attention.html"
   ]
  },
  {
   "cell_type": "markdown",
   "metadata": {},
   "source": [
    "maps input sequences to a sequence of continuous representations $x=(x_1 \\cdots, x_n) \\rightarrow z=(z_1, \\cdots, y_n)$, given $z$ generates an output sequence $y=(y_1, \\cdots, y_n)$"
   ]
  },
  {
   "cell_type": "markdown",
   "metadata": {},
   "source": [
    "## 3.2.1 Scaled Dot-Product Attention"
   ]
  },
  {
   "cell_type": "code",
   "execution_count": 2,
   "metadata": {},
   "outputs": [],
   "source": [
    "class ScaledDotProductAttention(nn.Module):\n",
    "    \"\"\"Scaled Dot-Product Attention\"\"\"\n",
    "    def __init__(self, d_k, return_attn=True):\n",
    "        super(ScaledDotProductAttention, self).__init__()\n",
    "        self.return_attn = return_attn\n",
    "        self.d_k = d_k\n",
    "        self.softmax = nn.Softmax(dim=2)\n",
    "        \n",
    "    def forward(self, q, k, v, mask=None):\n",
    "        \"\"\"\n",
    "        Inputs:\n",
    "        * q: (B, T_q, d_q), d_q = d_k\n",
    "        * k: (B, T_k, d_k)\n",
    "        * v: (B, T_v, d_v), T_k = T_v\n",
    "        -------------------------------\n",
    "        Outputs:\n",
    "        * output: (B, T_q, d_v)\n",
    "        * probs: (B, T_q, T_k)\n",
    "        \"\"\"\n",
    "        assert q.size(2) == k.size(2), \"d_q = d_k\"\n",
    "        assert k.size(1) == v.size(1), \"T_k = T_v\"\n",
    "        attn = torch.bmm(q, k.transpose(1, 2))  # (B, T_q, d_k) * (B, T_k, d_k) -> (B, T_q, T_k)\n",
    "        attn = attn / np.sqrt(self.d_k)\n",
    "        # why doing this? \n",
    "        # for the large values of d_k, the dot products grow large in magnitude, \n",
    "        # pushing the softmax function into regions where it has extremely small gradients\n",
    "        # to counteract this effect, scaled the dot products by 1/sqrt(d_k)\n",
    "        # to illustrate why the dot products get large,\n",
    "        # check the function 'check_dotproduct_dist'\n",
    "        if mask is not None:\n",
    "            attn = attn.masked_fill(mask, -np.inf)\n",
    "        \n",
    "        attn = self.softmax(attn)  # (B, T_q, T_k) --> (B, T_q, T_k)\n",
    "        output = torch.bmm(attn, v)  # (B, T_q, T_k) * (B, T_v, d_v) --> (B, T_q, d_v), make sure that T_k == T_v\n",
    "        if self.return_attn:\n",
    "            return output, attn\n",
    "        return output"
   ]
  },
  {
   "cell_type": "code",
   "execution_count": 3,
   "metadata": {},
   "outputs": [],
   "source": [
    "# ex) translation: \n",
    "# q - previous decoder\n",
    "# k, v - encoder output\n",
    "# mask should be (B, T_q, T_k), will talk about it later\n",
    "batch = 1\n",
    "T_q = 3\n",
    "T_k, T_v = (4, 4)\n",
    "d_k = 10\n",
    "d_v = 12\n",
    "mask = torch.ByteTensor([[[0, 1, 1, 1],\n",
    "                          [0, 0, 1, 1],\n",
    "                          [0, 0, 1, 1]]])\n",
    "q, k, v = torch.randn((batch, T_q, d_k)), torch.randn((batch, T_k, d_k)), torch.randn((batch, T_v, d_v))\n",
    "attention = ScaledDotProductAttention(d_k)"
   ]
  },
  {
   "cell_type": "code",
   "execution_count": 4,
   "metadata": {},
   "outputs": [
    {
     "data": {
      "text/plain": [
       "(torch.Size([1, 3, 12]), torch.Size([1, 3, 4]))"
      ]
     },
     "execution_count": 4,
     "metadata": {},
     "output_type": "execute_result"
    }
   ],
   "source": [
    "output, attn = attention(q, k, v, mask=mask)\n",
    "output.size(), attn.size()"
   ]
  },
  {
   "cell_type": "code",
   "execution_count": 5,
   "metadata": {},
   "outputs": [
    {
     "data": {
      "image/png": "[encoded data removed]",
      "text/plain": [
       "<Figure size 432x288 with 1 Axes>"
      ]
     },
     "metadata": {},
     "output_type": "display_data"
    }
   ],
   "source": [
    "plt.imshow(attn.squeeze(0).numpy())\n",
    "plt.show()"
   ]
  },
  {
   "cell_type": "code",
   "execution_count": 6,
   "metadata": {},
   "outputs": [],
   "source": [
    "def check_dotproduct_dist(d_k, sampling_size=1, seq_len=1, threshold=1e-10):\n",
    "    \"\"\"\n",
    "    to check \"https://arxiv.org/abs/1706.03762\" Paper page 4, annotation 4\n",
    "    -------------------------------\n",
    "    To illustrate why the dot products get large, \n",
    "    assume that the components of q and k are independent random variables \n",
    "    with mean 0 and variance 1.\n",
    "    Then their dot product has mean 0 and variance d_k\n",
    "    \"\"\"\n",
    "    def cal_grad(attn):\n",
    "        y = torch.softmax(attn, dim=2)\n",
    "        return y * (1-y)\n",
    "    \n",
    "    q = nn.init.normal_(torch.rand((sampling_size, seq_len, d_k)), mean=0, std=1)\n",
    "    k = nn.init.normal_(torch.rand((sampling_size, seq_len, d_k)), mean=0, std=1)\n",
    "    attn = torch.bmm(q, k.transpose(1, 2))\n",
    "    print('size of vector d_k is {}, sampling result, dot product distribution has \\n - mean: {:.4f}, \\n - var: {:.4f}'.\\\n",
    "          format(d_k, attn.mean().item(), attn.var().item()))\n",
    "    grad = cal_grad(attn)\n",
    "    print( \"count of gradients that smaller than threshod({}) is {}, {:.4f}%\".format(\n",
    "        threshold, grad.le(threshold).sum(), grad.le(threshold).sum().item()/grad.view(-1).size(0)*100 ) )\n",
    "    attn2 = attn / torch.sqrt(torch.as_tensor(d_k).float())\n",
    "    grad2 = cal_grad(attn2)\n",
    "    print( \"after divide by sqrt(d_k), count of gradients that smaller than threshod({}) is {}, {:.4f}% \\n\".format(\n",
    "        threshold, grad2.le(threshold).sum(), grad2.le(threshold).sum().item()/grad2.view(-1).size(0)*100 ) )"
   ]
  },
  {
   "cell_type": "code",
   "execution_count": 7,
   "metadata": {
    "scrolled": true
   },
   "outputs": [
    {
     "name": "stdout",
     "output_type": "stream",
     "text": [
      "*** notice that the gradient of softmax is y(1-y) ***\n",
      "size of vector d_k is 10, sampling result, dot product distribution has \n",
      " - mean: 0.0003, \n",
      " - var: 10.0183\n",
      "count of gradients that smaller than threshod(1e-10) is 199, 0.0080%\n",
      "after divide by sqrt(d_k), count of gradients that smaller than threshod(1e-10) is 0, 0.0000% \n",
      "\n",
      "size of vector d_k is 100, sampling result, dot product distribution has \n",
      " - mean: -0.0067, \n",
      " - var: 100.0631\n",
      "count of gradients that smaller than threshod(1e-10) is 402257, 16.0903%\n",
      "after divide by sqrt(d_k), count of gradients that smaller than threshod(1e-10) is 0, 0.0000% \n",
      "\n",
      "size of vector d_k is 1000, sampling result, dot product distribution has \n",
      " - mean: -0.0332, \n",
      " - var: 1000.6940\n",
      "count of gradients that smaller than threshod(1e-10) is 1738234, 69.5294%\n",
      "after divide by sqrt(d_k), count of gradients that smaller than threshod(1e-10) is 0, 0.0000% \n",
      "\n"
     ]
    }
   ],
   "source": [
    "print(\"*** notice that the gradient of softmax is y(1-y) ***\")\n",
    "for d_k in [10, 100, 1000]:\n",
    "    check_dotproduct_dist(d_k, sampling_size=100000, seq_len=5, threshold=1e-10)"
   ]
  },
  {
   "cell_type": "markdown",
   "metadata": {},
   "source": [
    "## 3.2.2 Multi-Head Attention"
   ]
  },
  {
   "cell_type": "code",
   "execution_count": 6,
   "metadata": {},
   "outputs": [],
   "source": [
    "class XavierLinear(nn.Module):\n",
    "    def __init__(self, in_features, out_features, bias=True):\n",
    "        super(XavierLinear, self).__init__()\n",
    "        self.linear = nn.Linear(in_features, out_features, bias=bias)\n",
    "        nn.init.xavier_normal_(self.linear.weight)\n",
    "\n",
    "    def forward(self, inputs):\n",
    "        return self.linear(inputs)"
   ]
  },
  {
   "cell_type": "code",
   "execution_count": 7,
   "metadata": {},
   "outputs": [],
   "source": [
    "class MultiHeadAttention(nn.Module):\n",
    "    \"\"\"Multi-head Attention\"\"\"\n",
    "    def __init__(self, n_head, d_model, d_k, d_v, drop_rate=0.1, return_attn=True):\n",
    "        \"\"\"\n",
    "        paper setting: n_head = 8, d_k = d_v = d_model / n_head = 64\n",
    "        Multi-head attention allows the model to jointly attend to information from \n",
    "        different representation subspaces at different positions.\n",
    "        with a single attention head, averaging inhibits this.\n",
    "        \"\"\"\n",
    "        super(MultiHeadAttention, self).__init__()\n",
    "        self.n_head = n_head\n",
    "        self.d_model = d_model\n",
    "        self.d_k = d_k\n",
    "        self.d_v = d_v\n",
    "        self.return_attn = return_attn\n",
    "        self.linear_q = XavierLinear(d_model, n_head*d_k)\n",
    "        self.linear_k = XavierLinear(d_model, n_head*d_k)\n",
    "        self.linear_v = XavierLinear(d_model, n_head*d_v)\n",
    "        self.linear_o = XavierLinear(n_head*d_v, d_model)\n",
    "        self.attention = ScaledDotProductAttention(d_k, return_attn=return_attn)\n",
    "        self.drop_out = nn.Dropout(drop_rate)\n",
    "        \n",
    "    def forward(self, q, k, v, mask=None):\n",
    "        \"\"\"\n",
    "        Inputs:\n",
    "        * q: (B, T_q, d_model)\n",
    "        * k: (B, T_k, d_model)\n",
    "        * v: (B, T_v, d_model)\n",
    "        * mask: (B, T_q, T_k)\n",
    "        ---------------------\n",
    "        Outputs:\n",
    "        * output: (B, T_q, d_model)\n",
    "        * attn: (n_head * B, T_q, T_k)\n",
    "        \"\"\"\n",
    "        n_head, d_model, d_k, d_v = self.n_head, self.d_model, self.d_k, self.d_v\n",
    "        B, T_q, _ = q.size()\n",
    "        B, T_k, _ = k.size()\n",
    "        B, T_v, _ = v.size()\n",
    "        # through linear layer: \n",
    "        # lin_qs : (B, T_q, d_model) --> (B, T_q, n_head * d_k) --> (n_head * B, T_q, d_k)\n",
    "        # lin_ks : (B, T_k, d_model) --> (B, T_k, n_head * d_k) --> (n_head * B, T_k, d_k) \n",
    "        # lin_vs : (B, T_v, d_model) --> (B, T_v, n_head * d_v) --> (n_head * B, T_v, d_v)\n",
    "        lin_qs = self.linear_q(q).view(B, T_q, n_head, d_k)  \n",
    "        lin_ks = self.linear_k(k).view(B, T_k, n_head, d_k)  \n",
    "        lin_vs = self.linear_v(v).view(B, T_v, n_head, d_v)  \n",
    "        lin_qs = lin_qs.permute(2, 0, 1, 3).contiguous().view(-1, T_q, d_k)\n",
    "        lin_ks = lin_ks.permute(2, 0, 1, 3).contiguous().view(-1, T_k, d_k)\n",
    "        lin_vs = lin_vs.permute(2, 0, 1, 3).contiguous().view(-1, T_v, d_v)\n",
    "        \n",
    "        if mask is not None:\n",
    "            mask = mask.repeat(n_head, 1, 1)\n",
    "\n",
    "        # attention: Scaled Dot-Product Attention\n",
    "        ## heads: (n_head * B, T_q, d_v)\n",
    "        ## attn: (n_head * B, T_q, T_k)\n",
    "        if self.return_attn:\n",
    "            heads, attn = self.attention(q=lin_qs, k=lin_ks, v=lin_vs, mask=mask)\n",
    "        else:\n",
    "            heads = self.attention(q=lin_qs, k=lin_ks, v=lin_vs, mask=mask)\n",
    "        # concat\n",
    "        # (n_head * B, T_q, d_v) --> (B, T_q, n_head * d_v)\n",
    "        heads_cat = torch.cat(list(heads.chunk(n_head, dim=0)), dim=-1)  \n",
    "        output = self.linear_o(heads_cat)  # (B, T_q, n_head * d_v) --> (B, T_q, d_model)\n",
    "        output = self.drop_out(output)\n",
    "        if self.return_attn:\n",
    "            return output, attn\n",
    "        return output"
   ]
  },
  {
   "cell_type": "code",
   "execution_count": 16,
   "metadata": {},
   "outputs": [
    {
     "data": {
      "text/plain": [
       "(torch.Size([1, 2, 24]), torch.Size([1, 5, 24]), torch.Size([1, 5, 24]))"
      ]
     },
     "execution_count": 16,
     "metadata": {},
     "output_type": "execute_result"
    }
   ],
   "source": [
    "batch = 1\n",
    "T_q = 2\n",
    "T_k, T_v = (5, 5)\n",
    "n_head = 8\n",
    "d_model = 3*n_head\n",
    "d_k = 5\n",
    "d_v = 5\n",
    "mask = torch.ByteTensor([[[0, 1, 1, 1, 1],\n",
    "                          [0, 0, 1, 1, 1]]])\n",
    "q, k, v = torch.randn((batch, T_q, d_model)), torch.randn((batch, T_k, d_model)), torch.randn((batch, T_v, d_model))\n",
    "q.size(), k.size(), v.size()"
   ]
  },
  {
   "cell_type": "code",
   "execution_count": 17,
   "metadata": {},
   "outputs": [
    {
     "data": {
      "text/plain": [
       "(torch.Size([1, 2, 24]), torch.Size([8, 2, 5]))"
      ]
     },
     "execution_count": 17,
     "metadata": {},
     "output_type": "execute_result"
    }
   ],
   "source": [
    "multiheadattention = MultiHeadAttention(n_head, d_model, d_k, d_v)\n",
    "o, attn = multiheadattention(q, k, v, mask=mask)\n",
    "o.size(), attn.size()"
   ]
  },
  {
   "cell_type": "markdown",
   "metadata": {},
   "source": [
    "## 3.2.3 Application\n",
    "\n",
    "### Encoder-Decoder attention\n",
    "\n",
    "* queries: the previous decoder layer\n",
    "* keys & values: output of the encoder\n",
    "\n",
    "### Encoder + self-attention\n",
    "\n",
    "* queries, keys, values come form the output of the previous layer in the encoder\n",
    "\n",
    "### Decoder + self-attention\n",
    "\n",
    "* need to prevent leftward information flow in the decoder to preserve the auto-regressive property. \n",
    "* implement by masking out (-inf)"
   ]
  },
  {
   "cell_type": "markdown",
   "metadata": {},
   "source": [
    "## 3.3 Position-wise Feed-Forward Networks\n",
    "\n",
    "$$FFN(x) = max(0, xW_1 + b_1)W_2 + b_2$$\n",
    "$$\\begin{aligned} W_1 &\\in \\Bbb{R}^{d_{model} \\times d_f} \\\\ \n",
    "b_1 &\\in \\Bbb{R}^{d_f} \\\\\n",
    "W_2 &\\in \\Bbb{R}^{d_f \\times d_{model}} \\\\ \n",
    "b_2 &\\in \\Bbb{R}^{d_{model}} \\\\\n",
    "\\end{aligned}$$\n",
    "\n",
    "same as $FFN = Linear(ReLU(Linear(x)) = Conv1d(ReLU(Conv1d))$"
   ]
  },
  {
   "cell_type": "code",
   "execution_count": 12,
   "metadata": {},
   "outputs": [],
   "source": [
    "class PositionWiseFFN(nn.Module):\n",
    "    \"\"\"Position-wise Feed-Forward Networks\"\"\"\n",
    "    def __init__(self, d_model, d_f, drop_rate=0.1, use_conv=False):\n",
    "        super(PositionWiseFFN, self).__init__()\n",
    "        self.use_conv = use_conv\n",
    "        if use_conv:\n",
    "            self.fc = nn.Sequential(\n",
    "                nn.Conv1d(d_model, d_f, kernel_size=1),\n",
    "                nn.ReLU(),\n",
    "                nn.Conv1d(d_f, d_model, kernel_size=1)\n",
    "            )\n",
    "        else:\n",
    "            self.fc = nn.Sequential(\n",
    "                nn.Linear(d_model, d_f),\n",
    "                nn.ReLU(),\n",
    "                nn.Linear(d_f, d_model)\n",
    "            )\n",
    "        self.drop_out = nn.Dropout(drop_rate)\n",
    "    \n",
    "    def forward(self, x):\n",
    "        \"\"\"\n",
    "        Inputs:\n",
    "        x: (B, T, d_model)\n",
    "        -----------------------\n",
    "        Ouputs:\n",
    "        output: (B, T, d_model)\n",
    "        \"\"\"\n",
    "        if self.use_conv:\n",
    "            x = x.transpose(1, 2)  # (B, T, d_model) --> (B, d_model, T), reshape like (batch, channel, dim)\n",
    "            output = self.fc(x).transpose(1, 2)  # (B, d_model, T) --> (B, T, d_model)\n",
    "        else:\n",
    "            output = self.fc(x)\n",
    "            \n",
    "        output = self.drop_out(output)\n",
    "        return output"
   ]
  },
  {
   "cell_type": "code",
   "execution_count": 13,
   "metadata": {},
   "outputs": [
    {
     "data": {
      "text/plain": [
       "torch.Size([1, 2, 256])"
      ]
     },
     "execution_count": 13,
     "metadata": {},
     "output_type": "execute_result"
    }
   ],
   "source": [
    "d_f = d_model*4\n",
    "PWFFN = PositionWiseFFN(d_model, d_f, use_conv=False)\n",
    "PWFFN(q).size()"
   ]
  },
  {
   "cell_type": "code",
   "execution_count": 14,
   "metadata": {},
   "outputs": [
    {
     "data": {
      "text/plain": [
       "torch.Size([1, 2, 256])"
      ]
     },
     "execution_count": 14,
     "metadata": {},
     "output_type": "execute_result"
    }
   ],
   "source": [
    "PWFFN = PositionWiseFFN(d_model, d_f, use_conv=True)\n",
    "PWFFN(q).size()"
   ]
  },
  {
   "cell_type": "markdown",
   "metadata": {},
   "source": [
    "## 3.5 Positional Encoding & Embeddings"
   ]
  },
  {
   "cell_type": "markdown",
   "metadata": {},
   "source": [
    "$$\\begin{aligned} PE_{(pos, 2i)} &= sin(pos/10000^{2i / d_{model}}) \\\\\n",
    "PE_{(pos, 2i+1)} &= cos(pos/10000^{2i / d_{model}}) \\\\\n",
    "\\end{aligned}$$"
   ]
  },
  {
   "cell_type": "code",
   "execution_count": 15,
   "metadata": {},
   "outputs": [],
   "source": [
    "class PositionalEncoding(nn.Module):\n",
    "    \"\"\"Positional Encoding\"\"\"\n",
    "    def __init__(self, n_pos, d_model, pad_idx=0):\n",
    "        \"\"\"\n",
    "        n_pos = max sequence length + 1\n",
    "        \"\"\"\n",
    "        super(PositionalEncoding, self).__init__()\n",
    "        self.n_pos = n_pos\n",
    "        self.d_model = d_model\n",
    "        self.pe_table = np.array(self.get_pe_table())\n",
    "        self.pe_table[:, 0::2] = np.sin(self.pe_table[:, 0::2])\n",
    "        self.pe_table[:, 1::2] = np.cos(self.pe_table[:, 1::2])\n",
    "        self.pe_table[pad_idx, :] = 0  # embed all pad to 0\n",
    "        self.pe = nn.Embedding.from_pretrained(torch.FloatTensor(self.pe_table), freeze=True)\n",
    "        \n",
    "    def cal_angle(self, pos, hid_idx):\n",
    "        return pos / (10000 ** ((2*(hid_idx // 2) / self.d_model)) )\n",
    "    \n",
    "    def get_pe_table(self):\n",
    "        return [[self.cal_angle(pos, i) for i in range(self.d_model)] for pos in range(self.n_pos)]         \n",
    "        \n",
    "    def forward(self, inputs):\n",
    "        return self.pe(inputs)"
   ]
  },
  {
   "cell_type": "code",
   "execution_count": 16,
   "metadata": {},
   "outputs": [],
   "source": [
    "class Embedding(nn.Module):\n",
    "    def __init__(self, vocab_len, d_model, pad_idx=1):\n",
    "        super(Embedding, self).__init__()\n",
    "        self.d_model = d_model\n",
    "        self.embedding = nn.Embedding(vocab_len, d_model, padding_idx=pad_idx)\n",
    "        \n",
    "    def forward(self, x):\n",
    "        return self.embedding(x) * np.sqrt(self.d_model)"
   ]
  },
  {
   "cell_type": "code",
   "execution_count": 17,
   "metadata": {},
   "outputs": [],
   "source": [
    "n_pos = 3\n",
    "vocab_len = 10\n",
    "pos_layer = PositionalEncoding(n_pos+1, d_model)  # n_pos + 1 for pad idx\n",
    "embed_layer = Embedding(vocab_len, d_model, pad_idx=0)"
   ]
  },
  {
   "cell_type": "code",
   "execution_count": 18,
   "metadata": {},
   "outputs": [
    {
     "data": {
      "text/plain": [
       "(torch.Size([4, 3, 256]), torch.Size([4, 3, 256]))"
      ]
     },
     "execution_count": 18,
     "metadata": {},
     "output_type": "execute_result"
    }
   ],
   "source": [
    "x = torch.LongTensor(np.array([[6, 5, 3], [1, 3, 0], [5, 3, 6], [3, 6, 2]]))\n",
    "po_x = torch.LongTensor(np.array([[1, 2, 3], [1, 2, 0], [1, 2, 3], [1, 2, 3]]))\n",
    "embed_layer(x).size(), pos_layer(po_x).size()"
   ]
  },
  {
   "cell_type": "code",
   "execution_count": 19,
   "metadata": {},
   "outputs": [
    {
     "data": {
      "text/plain": [
       "torch.Size([4, 3, 256])"
      ]
     },
     "execution_count": 19,
     "metadata": {},
     "output_type": "execute_result"
    }
   ],
   "source": [
    "inputs = embed_layer(x) + pos_layer(po_x)\n",
    "inputs.size()"
   ]
  },
  {
   "cell_type": "code",
   "execution_count": 20,
   "metadata": {},
   "outputs": [
    {
     "data": {
      "text/plain": [
       "(torch.Size([4, 4, 256]), torch.Size([4, 4, 256]))"
      ]
     },
     "execution_count": 20,
     "metadata": {},
     "output_type": "execute_result"
    }
   ],
   "source": [
    "target_n_pos = 4  # equal to max_seq_len\n",
    "t = torch.LongTensor(np.array([[1, 0, 0, 0], [5, 7, 9, 2], [3, 7, 0, 0], [2, 9, 4, 0]]))\n",
    "po_t = torch.LongTensor(np.array([[1, 0, 0, 0], [1, 2, 3, 4], [1, 2, 0, 0], [1, 2, 3, 0]]))\n",
    "pos_layer = PositionalEncoding(target_n_pos+1, d_model)  # n_pos + 1 for pad idx\n",
    "embed_layer = Embedding(vocab_len, d_model)\n",
    "embed_layer(t).size(), pos_layer(po_t).size()"
   ]
  },
  {
   "cell_type": "code",
   "execution_count": 21,
   "metadata": {},
   "outputs": [
    {
     "data": {
      "text/plain": [
       "torch.Size([4, 4, 256])"
      ]
     },
     "execution_count": 21,
     "metadata": {},
     "output_type": "execute_result"
    }
   ],
   "source": [
    "target_inputs = embed_layer(t) + pos_layer(po_t)\n",
    "target_inputs.size()"
   ]
  },
  {
   "cell_type": "code",
   "execution_count": 22,
   "metadata": {},
   "outputs": [],
   "source": [
    "def get_padding_mask(q, k=None, pad_idx=1, mode='attn'):\n",
    "    \"\"\"\n",
    "    mode: attn\n",
    "    > mask out for pad in attention with queries & keys sequences\n",
    "    > return shape: (B, T_q, T_k)\n",
    "    mode: nonpad\n",
    "    > mask out pad rows in attention\n",
    "    > return shape: (B, T_q, T_k)\n",
    "    mode: subseq\n",
    "    > mask out next tokens to preserve 'auto-regressive property'\n",
    "    > return shape: (B, T_q, T_q)\n",
    "    \"\"\"\n",
    "    B, q_len = q.size()\n",
    "    if mode == 'attn':\n",
    "        assert k is not None, \"must have key sequences\"\n",
    "        padding_mask = k.eq(pad_idx)\n",
    "        padding_mask = padding_mask.unsqueeze(1).expand(B, q_len, -1)\n",
    "        return padding_mask\n",
    "    elif mode == 'nonpad':\n",
    "        # to mask out pad rows\n",
    "        assert k is None, \"don't need key sequences\"\n",
    "        return q.ne(pad_idx).type(torch.float).unsqueeze(-1)\n",
    "    elif mode =='subseq':\n",
    "        assert k is None, \"don't need key sequences\"\n",
    "        subseq_mask = torch.triu(torch.ones((q_len, q_len), device=q.device, dtype=torch.uint8), \n",
    "                                 diagonal=1)\n",
    "        subseq_mask = subseq_mask.unsqueeze(0).expand(B, -1, -1)\n",
    "        return subseq_mask"
   ]
  },
  {
   "cell_type": "code",
   "execution_count": 23,
   "metadata": {},
   "outputs": [],
   "source": [
    "attn_mask = get_padding_mask(q=t, k=t, pad_idx=0, mode='attn')\n",
    "subseq_mask = get_padding_mask(q=t, mode='subseq')\n",
    "self_attn_mask = (attn_mask + subseq_mask).gt(0)"
   ]
  },
  {
   "cell_type": "code",
   "execution_count": 24,
   "metadata": {
    "scrolled": true
   },
   "outputs": [
    {
     "data": {
      "text/plain": [
       "tensor([[[0, 1, 1, 1],\n",
       "         [0, 1, 1, 1],\n",
       "         [0, 1, 1, 1],\n",
       "         [0, 1, 1, 1]],\n",
       "\n",
       "        [[0, 1, 1, 1],\n",
       "         [0, 0, 1, 1],\n",
       "         [0, 0, 0, 1],\n",
       "         [0, 0, 0, 0]],\n",
       "\n",
       "        [[0, 1, 1, 1],\n",
       "         [0, 0, 1, 1],\n",
       "         [0, 0, 1, 1],\n",
       "         [0, 0, 1, 1]],\n",
       "\n",
       "        [[0, 1, 1, 1],\n",
       "         [0, 0, 1, 1],\n",
       "         [0, 0, 0, 1],\n",
       "         [0, 0, 0, 1]]], dtype=torch.uint8)"
      ]
     },
     "execution_count": 24,
     "metadata": {},
     "output_type": "execute_result"
    }
   ],
   "source": [
    "self_attn_mask"
   ]
  },
  {
   "cell_type": "code",
   "execution_count": 25,
   "metadata": {},
   "outputs": [
    {
     "data": {
      "text/plain": [
       "tensor([[[1.],\n",
       "         [0.],\n",
       "         [0.],\n",
       "         [0.]],\n",
       "\n",
       "        [[1.],\n",
       "         [1.],\n",
       "         [1.],\n",
       "         [1.]],\n",
       "\n",
       "        [[1.],\n",
       "         [1.],\n",
       "         [0.],\n",
       "         [0.]],\n",
       "\n",
       "        [[1.],\n",
       "         [1.],\n",
       "         [1.],\n",
       "         [0.]]])"
      ]
     },
     "execution_count": 25,
     "metadata": {},
     "output_type": "execute_result"
    }
   ],
   "source": [
    "non_pad_mask = get_padding_mask(q=t, pad_idx=0, mode='nonpad')\n",
    "non_pad_mask"
   ]
  },
  {
   "cell_type": "code",
   "execution_count": 26,
   "metadata": {},
   "outputs": [],
   "source": [
    "multiheadattention = MultiHeadAttention(n_head, d_model, d_k, d_v)\n",
    "o, attn = multiheadattention(q=target_inputs, k=target_inputs, v=target_inputs, mask=attn_mask)"
   ]
  },
  {
   "cell_type": "code",
   "execution_count": 27,
   "metadata": {},
   "outputs": [],
   "source": [
    "o *= non_pad_mask"
   ]
  },
  {
   "cell_type": "code",
   "execution_count": 28,
   "metadata": {},
   "outputs": [
    {
     "data": {
      "text/plain": [
       "tensor([[[ -0.4242,  -0.3655,   0.3953,  ...,  -0.1497,   0.4583,  -0.0049],\n",
       "         [ -0.0000,  -0.0000,   0.0000,  ...,  -0.0000,   0.0000,  -0.0000],\n",
       "         [ -0.0000,  -0.0000,   0.0000,  ...,  -0.0000,   0.0000,  -0.0000],\n",
       "         [ -0.0000,  -0.0000,   0.0000,  ...,  -0.0000,   0.0000,  -0.0000]],\n",
       "\n",
       "        [[  2.8123,   0.0000,  -0.0539,  ..., -11.1668,  -4.8402,  23.7759],\n",
       "         [ 15.8007,   8.3555, -21.1437,  ...,  11.6008,  16.7544,  19.9623],\n",
       "         [  7.0687,  -0.0000,   9.5903,  ...,  13.4302,  11.8907,  -9.4380],\n",
       "         [-13.1387,  11.2663,  11.0090,  ..., -35.1497,  -0.0000,  -4.5492]],\n",
       "\n",
       "        [[-44.0997,  13.5027,  11.6549,  ...,   8.9507,  10.0594,  11.9547],\n",
       "         [-11.5073,   7.3753,  -8.2744,  ...,  12.8736,   7.3027,  16.2490],\n",
       "         [ -0.0000,   0.0000,  -0.0000,  ...,   0.0000,   0.0000,  -0.0000],\n",
       "         [ -0.0000,   0.0000,  -0.0000,  ...,   0.0000,   0.0000,  -0.0000]],\n",
       "\n",
       "        [[ -7.1606,   0.0000,  20.6702,  ...,   1.6610, -14.5098,  -8.6210],\n",
       "         [ -0.0000,   4.1631,  18.4352,  ...,  -0.4344,  -0.0000,   9.5706],\n",
       "         [-10.5211,  19.1705,  -1.4648,  ...,  -6.5956,  -0.0000,  29.5595],\n",
       "         [ -0.0000,   0.0000,   0.0000,  ...,  -0.0000,  -0.0000,  -0.0000]]],\n",
       "       grad_fn=<ThMulBackward>)"
      ]
     },
     "execution_count": 28,
     "metadata": {},
     "output_type": "execute_result"
    }
   ],
   "source": [
    "o"
   ]
  },
  {
   "cell_type": "markdown",
   "metadata": {},
   "source": [
    "## Layers"
   ]
  },
  {
   "cell_type": "code",
   "execution_count": 29,
   "metadata": {},
   "outputs": [],
   "source": [
    "# Encode Layer\n",
    "class Encode_Layer(nn.Module):\n",
    "    \"\"\"encode layer\"\"\"\n",
    "    def __init__(self, n_head, d_model, d_k, d_v, d_f, drop_rate=0.1, use_conv=False, return_attn=True):\n",
    "        super(Encode_Layer, self).__init__()\n",
    "        self.return_attn = return_attn\n",
    "        self.n_head = n_head\n",
    "        self.selfattn = MultiHeadAttention(n_head, d_model, d_k, d_v, drop_rate=drop_rate, return_attn=return_attn)\n",
    "        self.pwffn = PositionWiseFFN(d_model, d_f, drop_rate=drop_rate, use_conv=use_conv)\n",
    "        self.norm_selfattn = nn.LayerNorm(d_model)\n",
    "        self.norm_pwffn = nn.LayerNorm(d_model)\n",
    "        \n",
    "    def forward(self, enc_input, enc_mask=None, non_pad_mask=None):\n",
    "        \"\"\"\n",
    "        Inputs:\n",
    "        * enc_input: (B, T, d_model)\n",
    "        * enc_mask: (B, T, T)\n",
    "        * non_pad_mask: (B, T, 1)\n",
    "        -------------------------------------\n",
    "        Outputs:\n",
    "        * enc_output: (B, T, d_model)\n",
    "        * enc_attn: (n_head * B, T, T)\n",
    "        \"\"\"\n",
    "        # Layer: Multi-Head Attention + Add & Norm\n",
    "        # encode self-attention\n",
    "        if self.return_attn:\n",
    "            enc_output, enc_attn = self.selfattn(enc_input, enc_input, enc_input, mask=enc_mask)\n",
    "        else:\n",
    "            enc_output = self.selfattn(enc_input, enc_input, enc_input, mask=enc_mask)\n",
    "        enc_output = self.norm_selfattn(enc_input + enc_output)\n",
    "        enc_output *= non_pad_mask\n",
    "        \n",
    "        # Layer: PositionWiseFFN + Add & Norm\n",
    "        pw_output = self.pwffn(enc_output)\n",
    "        enc_output = self.norm_pwffn(enc_output + pw_output)\n",
    "        enc_output *= non_pad_mask\n",
    "        if self.return_attn:\n",
    "            # attns cat([B, T, T] * n_heads)\n",
    "            enc_attn = torch.cat([attn*non_pad_mask \\\n",
    "                                  for attn in enc_attn.chunk(self.n_head, dim=0)], dim=0)\n",
    "            return enc_output, enc_attn\n",
    "        return enc_output"
   ]
  },
  {
   "cell_type": "code",
   "execution_count": 30,
   "metadata": {},
   "outputs": [],
   "source": [
    "# Decode Layer\n",
    "class Decode_Layer(nn.Module):\n",
    "    \"\"\"decode layer\"\"\"\n",
    "    def __init__(self, n_head, d_model, d_k, d_v, d_f, drop_rate=0.1, use_conv=False, return_attn=True):\n",
    "        super(Decode_Layer, self).__init__()\n",
    "        self.return_attn = return_attn\n",
    "        self.n_head = n_head\n",
    "        self.selfattn_masked = MultiHeadAttention(n_head, d_model, d_k, d_v, drop_rate=drop_rate, \n",
    "                                                  return_attn=return_attn)\n",
    "        self.dec_enc_attn = MultiHeadAttention(n_head, d_model, d_k, d_v, drop_rate=drop_rate, \n",
    "                                               return_attn=return_attn)\n",
    "        self.pwffn = PositionWiseFFN(d_model, d_f, drop_rate=drop_rate, use_conv=use_conv)\n",
    "        self.norm_selfattn_masked = nn.LayerNorm(d_model)\n",
    "        self.norm_dec_enc_attn = nn.LayerNorm(d_model)\n",
    "        self.norm_pwffn = nn.LayerNorm(d_model)\n",
    "    \n",
    "    def forward(self, dec_input, enc_output, dec_self_mask=None, \n",
    "                dec_enc_mask=None, non_pad_mask=None):\n",
    "        \"\"\"\n",
    "        Inputs:\n",
    "        * dec_input: (B, T_q, d_model)\n",
    "        * enc_input: (B, T, d_model)\n",
    "        * dec_self_mask: (B, T_q, T_q)\n",
    "        * dec_enc_mask: (B, T_q, T)\n",
    "        * non_pad_mask: (B, T_q, 1)\n",
    "        -------------------------------------\n",
    "        Outputs:\n",
    "        * dec_output: (B, T_q, d_model)\n",
    "        * dec_self_attn: (n_head * B, T_q, T_q)\n",
    "        * dec_enc_attn: (n_head * B, T_q, T)\n",
    "        \"\"\"\n",
    "        # Layer: Multi-Head Attention + Add & Norm\n",
    "        # decode self-attention\n",
    "        if self.return_attn:\n",
    "            dec_self_output, dec_self_attn = self.selfattn_masked(dec_input, dec_input, dec_input, \n",
    "                                                                  mask=dec_self_mask)\n",
    "        else:\n",
    "            dec_self_output = self.selfattn_masked(dec_input, dec_input, dec_input, \n",
    "                                                   mask=dec_self_mask)\n",
    "        dec_self_output = self.norm_selfattn_masked(dec_input + dec_self_output)\n",
    "        dec_self_output *= non_pad_mask\n",
    "        \n",
    "        # Layer: Multi-Head Attention + Add & Norm\n",
    "        # decode output(queries) + encode output(keys, values)\n",
    "        if self.return_attn:\n",
    "            dec_output, dec_enc_attn = self.dec_enc_attn(dec_self_output, enc_output, enc_output, \n",
    "                                                         mask=dec_enc_mask)\n",
    "        else:\n",
    "             dec_output = self.dec_enc_attn(dec_self_output, enc_output, enc_output, mask=dec_enc_mask)\n",
    "        dec_output = self.norm_dec_enc_attn(dec_self_output + dec_output)\n",
    "        dec_output *= non_pad_mask\n",
    "        \n",
    "        # Layer: PositionWiseFFN + Add & Norm\n",
    "        pw_output = self.pwffn(dec_output)\n",
    "        dec_output = self.norm_pwffn(dec_output + pw_output)\n",
    "        dec_output *= non_pad_mask\n",
    "        if self.return_attn:\n",
    "            dec_self_attn = torch.cat([attn*non_pad_mask \\\n",
    "                                       for attn in dec_self_attn.chunk(self.n_head, dim=0)], dim=0)\n",
    "            dec_enc_attn = torch.cat([attn*non_pad_mask \\\n",
    "                                      for attn in dec_enc_attn.chunk(self.n_head, dim=0)], dim=0)\n",
    "            return dec_output, dec_self_attn, dec_enc_attn\n",
    "        return dec_output"
   ]
  },
  {
   "cell_type": "code",
   "execution_count": 31,
   "metadata": {},
   "outputs": [],
   "source": [
    "enc_layer = Encode_Layer(n_head, d_model, d_k, d_v, d_f)\n",
    "dec_layer = Decode_Layer(n_head, d_model, d_k, d_v, d_f)\n",
    "\n",
    "enc_mask = get_padding_mask(x, x, pad_idx=0, mode='attn')\n",
    "non_pad_mask = get_padding_mask(x, pad_idx=0, mode='nonpad')\n",
    "enc_output, enc_attn = enc_layer.forward(inputs, enc_mask=enc_mask, non_pad_mask=non_pad_mask)\n",
    "\n",
    "dec_mask = (get_padding_mask(t, t, pad_idx=0, mode='attn') + \\\n",
    "    get_padding_mask(t, pad_idx=0, mode='subseq')).gt(0)\n",
    "dec_enc_mask = get_padding_mask(t, x, pad_idx=0, mode='attn')\n",
    "non_pad_mask = get_padding_mask(t, pad_idx=0, mode='nonpad')\n",
    "\n",
    "dec_output, dec_self_attn, dec_enc_attn = dec_layer.forward(target_inputs, \n",
    "                                                            enc_output, \n",
    "                                                            dec_self_mask=dec_mask, \n",
    "                                                            dec_enc_mask=dec_enc_mask,\n",
    "                                                            non_pad_mask=non_pad_mask)"
   ]
  },
  {
   "cell_type": "code",
   "execution_count": 32,
   "metadata": {},
   "outputs": [
    {
     "data": {
      "text/plain": [
       "(torch.Size([4, 3, 256]), torch.Size([32, 3, 3]))"
      ]
     },
     "execution_count": 32,
     "metadata": {},
     "output_type": "execute_result"
    }
   ],
   "source": [
    "enc_output.size(), enc_attn.size()"
   ]
  },
  {
   "cell_type": "code",
   "execution_count": 33,
   "metadata": {},
   "outputs": [
    {
     "data": {
      "text/plain": [
       "(torch.Size([4, 4, 256]), torch.Size([32, 4, 4]), torch.Size([32, 4, 3]))"
      ]
     },
     "execution_count": 33,
     "metadata": {},
     "output_type": "execute_result"
    }
   ],
   "source": [
    "dec_output.size(), dec_self_attn.size(), dec_enc_attn.size()"
   ]
  },
  {
   "cell_type": "code",
   "execution_count": 34,
   "metadata": {
    "scrolled": true
   },
   "outputs": [
    {
     "data": {
      "text/plain": [
       "tensor([[6, 5, 3],\n",
       "        [1, 3, 0],\n",
       "        [5, 3, 6],\n",
       "        [3, 6, 2]])"
      ]
     },
     "execution_count": 34,
     "metadata": {},
     "output_type": "execute_result"
    }
   ],
   "source": [
    "x"
   ]
  },
  {
   "cell_type": "code",
   "execution_count": 35,
   "metadata": {},
   "outputs": [],
   "source": [
    "def draw_mask(attn, batch=0, head=None, stop=None, n_head=8):\n",
    "    attns = attn.chunk(n_head, dim=0)\n",
    "    if head is None:\n",
    "        assert stop is not None, 'insert stop iter for n_head'\n",
    "        for i in range(0, stop):\n",
    "            print(attns[i][batch])\n",
    "            plt.imshow(attns[i][batch].detach().numpy())\n",
    "            plt.show()\n",
    "    else:\n",
    "        print(attns[head][batch])\n",
    "        plt.imshow(attns[head][batch].detach().numpy())\n",
    "        plt.show()"
   ]
  },
  {
   "cell_type": "code",
   "execution_count": 36,
   "metadata": {
    "scrolled": false
   },
   "outputs": [
    {
     "name": "stdout",
     "output_type": "stream",
     "text": [
      "tensor([[0.0000, 1.0000, 0.0000],\n",
      "        [0.9999, 0.0001, 0.0000],\n",
      "        [0.0000, 0.0000, 0.0000]], grad_fn=<SelectBackward>)\n"
     ]
    },
    {
     "data": {
      "image/png": "[encoded data removed]",
      "text/plain": [
       "<Figure size 432x288 with 1 Axes>"
      ]
     },
     "metadata": {},
     "output_type": "display_data"
    },
    {
     "name": "stdout",
     "output_type": "stream",
     "text": [
      "tensor([[0.0000, 1.0000, 0.0000],\n",
      "        [1.0000, 0.0000, 0.0000],\n",
      "        [0.0000, 0.0000, 0.0000]], grad_fn=<SelectBackward>)\n"
     ]
    },
    {
     "data": {
      "image/png": "[encoded data removed]",
      "text/plain": [
       "<Figure size 432x288 with 1 Axes>"
      ]
     },
     "metadata": {},
     "output_type": "display_data"
    },
    {
     "name": "stdout",
     "output_type": "stream",
     "text": [
      "tensor([[0., 1., 0.],\n",
      "        [0., 1., 0.],\n",
      "        [0., 0., 0.]], grad_fn=<SelectBackward>)\n"
     ]
    },
    {
     "data": {
      "image/png": "[encoded data removed]",
      "text/plain": [
       "<Figure size 432x288 with 1 Axes>"
      ]
     },
     "metadata": {},
     "output_type": "display_data"
    },
    {
     "name": "stdout",
     "output_type": "stream",
     "text": [
      "tensor([[1.0000, 0.0000, 0.0000],\n",
      "        [1.0000, 0.0000, 0.0000],\n",
      "        [0.0000, 0.0000, 0.0000]], grad_fn=<SelectBackward>)\n"
     ]
    },
    {
     "data": {
      "image/png": "[encoded data removed]",
      "text/plain": [
       "<Figure size 432x288 with 1 Axes>"
      ]
     },
     "metadata": {},
     "output_type": "display_data"
    }
   ],
   "source": [
    "draw_mask(enc_attn, batch=1, stop=4)"
   ]
  },
  {
   "cell_type": "code",
   "execution_count": 37,
   "metadata": {},
   "outputs": [
    {
     "data": {
      "text/plain": [
       "tensor([[1, 0, 0, 0],\n",
       "        [5, 7, 9, 2],\n",
       "        [3, 7, 0, 0],\n",
       "        [2, 9, 4, 0]])"
      ]
     },
     "execution_count": 37,
     "metadata": {},
     "output_type": "execute_result"
    }
   ],
   "source": [
    "t"
   ]
  },
  {
   "cell_type": "code",
   "execution_count": 38,
   "metadata": {},
   "outputs": [
    {
     "name": "stdout",
     "output_type": "stream",
     "text": [
      "tensor([[1., 0., 0., 0.],\n",
      "        [1., 0., 0., 0.],\n",
      "        [0., 0., 0., 0.],\n",
      "        [0., 0., 0., 0.]], grad_fn=<SelectBackward>)\n"
     ]
    },
    {
     "data": {
      "image/png": "[encoded data removed]",
      "text/plain": [
       "<Figure size 432x288 with 1 Axes>"
      ]
     },
     "metadata": {},
     "output_type": "display_data"
    },
    {
     "name": "stdout",
     "output_type": "stream",
     "text": [
      "tensor([[1., 0., 0., 0.],\n",
      "        [1., 0., 0., 0.],\n",
      "        [0., 0., 0., 0.],\n",
      "        [0., 0., 0., 0.]], grad_fn=<SelectBackward>)\n"
     ]
    },
    {
     "data": {
      "image/png": "[encoded data removed]",
      "text/plain": [
       "<Figure size 432x288 with 1 Axes>"
      ]
     },
     "metadata": {},
     "output_type": "display_data"
    },
    {
     "name": "stdout",
     "output_type": "stream",
     "text": [
      "tensor([[1.0000, 0.0000, 0.0000, 0.0000],\n",
      "        [1.0000, 0.0000, 0.0000, 0.0000],\n",
      "        [0.0000, 0.0000, 0.0000, 0.0000],\n",
      "        [0.0000, 0.0000, 0.0000, 0.0000]], grad_fn=<SelectBackward>)\n"
     ]
    },
    {
     "data": {
      "image/png": "[encoded data removed]",
      "text/plain": [
       "<Figure size 432x288 with 1 Axes>"
      ]
     },
     "metadata": {},
     "output_type": "display_data"
    },
    {
     "name": "stdout",
     "output_type": "stream",
     "text": [
      "tensor([[1., 0., 0., 0.],\n",
      "        [1., 0., 0., 0.],\n",
      "        [0., 0., 0., 0.],\n",
      "        [0., 0., 0., 0.]], grad_fn=<SelectBackward>)\n"
     ]
    },
    {
     "data": {
      "image/png": "[encoded data removed]",
      "text/plain": [
       "<Figure size 432x288 with 1 Axes>"
      ]
     },
     "metadata": {},
     "output_type": "display_data"
    }
   ],
   "source": [
    "draw_mask(dec_self_attn, batch=2, stop=4)"
   ]
  },
  {
   "cell_type": "code",
   "execution_count": 39,
   "metadata": {},
   "outputs": [
    {
     "name": "stdout",
     "output_type": "stream",
     "text": [
      "tensor([[0.3781, 0.3450, 0.2769],\n",
      "        [0.3340, 0.4613, 0.2047],\n",
      "        [0.0000, 0.0000, 0.0000],\n",
      "        [0.0000, 0.0000, 0.0000]], grad_fn=<SelectBackward>)\n"
     ]
    },
    {
     "data": {
      "image/png": "[encoded data removed]",
      "text/plain": [
       "<Figure size 432x288 with 1 Axes>"
      ]
     },
     "metadata": {},
     "output_type": "display_data"
    },
    {
     "name": "stdout",
     "output_type": "stream",
     "text": [
      "tensor([[0.6594, 0.2007, 0.1399],\n",
      "        [0.3593, 0.4861, 0.1546],\n",
      "        [0.0000, 0.0000, 0.0000],\n",
      "        [0.0000, 0.0000, 0.0000]], grad_fn=<SelectBackward>)\n"
     ]
    },
    {
     "data": {
      "image/png": "[encoded data removed]",
      "text/plain": [
       "<Figure size 432x288 with 1 Axes>"
      ]
     },
     "metadata": {},
     "output_type": "display_data"
    },
    {
     "name": "stdout",
     "output_type": "stream",
     "text": [
      "tensor([[0.1682, 0.5437, 0.2881],\n",
      "        [0.1661, 0.3735, 0.4604],\n",
      "        [0.0000, 0.0000, 0.0000],\n",
      "        [0.0000, 0.0000, 0.0000]], grad_fn=<SelectBackward>)\n"
     ]
    },
    {
     "data": {
      "image/png": "[encoded data removed]",
      "text/plain": [
       "<Figure size 432x288 with 1 Axes>"
      ]
     },
     "metadata": {},
     "output_type": "display_data"
    },
    {
     "name": "stdout",
     "output_type": "stream",
     "text": [
      "tensor([[0.0825, 0.4967, 0.4208],\n",
      "        [0.5540, 0.2102, 0.2357],\n",
      "        [0.0000, 0.0000, 0.0000],\n",
      "        [0.0000, 0.0000, 0.0000]], grad_fn=<SelectBackward>)\n"
     ]
    },
    {
     "data": {
      "image/png": "[encoded data removed]",
      "text/plain": [
       "<Figure size 432x288 with 1 Axes>"
      ]
     },
     "metadata": {},
     "output_type": "display_data"
    }
   ],
   "source": [
    "draw_mask(dec_enc_attn, batch=2, stop=4)"
   ]
  },
  {
   "cell_type": "markdown",
   "metadata": {},
   "source": [
    "## Models: Encoder & Decoder - Transformer"
   ]
  },
  {
   "cell_type": "code",
   "execution_count": 40,
   "metadata": {},
   "outputs": [],
   "source": [
    "class Encoder(nn.Module):\n",
    "    def __init__(self, vocab_len, max_seq_len, n_layer, n_head, d_model, d_k, d_v, d_f, \n",
    "                 drop_rate=0.1, use_conv=False, return_attn=True, pad_idx=0):\n",
    "        super(Encoder, self).__init__()\n",
    "        self.pad_idx = pad_idx\n",
    "        self.return_attn = return_attn\n",
    "        self.dropout = nn.Dropout(drop_rate)\n",
    "        self.embed_layer = Embedding(vocab_len, d_model, pad_idx=pad_idx)\n",
    "        self.pos_layer = PositionalEncoding(max_seq_len+1, d_model, pad_idx=0)\n",
    "        self.layers = nn.ModuleList([Encode_Layer(n_head, d_model, d_k, d_v, d_f, \n",
    "                                                  drop_rate=drop_rate, \n",
    "                                                  use_conv=use_conv,\n",
    "                                                  return_attn=return_attn) \\\n",
    "                                     for i in range(n_layer)])\n",
    "        \n",
    "    def forward(self, enc, enc_pos):\n",
    "        \"\"\"\n",
    "        Inputs:\n",
    "        * enc: (B, T)\n",
    "        * enc_pos: (B, T)\n",
    "        -------------------------------------\n",
    "        Outputs:\n",
    "        * enc_output: (B, T, d_model)\n",
    "        * self_attns: (n_head*B, T, T)\n",
    "        \"\"\"\n",
    "        self_attns = []  # (n_layer, n_head*B, T, T)\n",
    "        # self attention padding mask: (B, T, T)\n",
    "        attn_mask = get_padding_mask(q=enc, k=enc, pad_idx=self.pad_idx, mode='attn')\n",
    "        non_pad_mask = get_padding_mask(q=enc, pad_idx=self.pad_idx, mode='nonpad')\n",
    "        # embedding + position encoding: (B, T) --> (B, T, d_model)\n",
    "        enc_output = self.embed_layer(enc) + self.pos_layer(enc_pos)\n",
    "        enc_output = self.dropout(enc_output)\n",
    "        # forward encode layer\n",
    "        for enc_layer in self.layers:\n",
    "            if self.return_attn:\n",
    "                enc_output, enc_self_attn = enc_layer(enc_input=enc_output, \n",
    "                                                      enc_mask=attn_mask, \n",
    "                                                      non_pad_mask=non_pad_mask)\n",
    "                self_attns.append(enc_self_attn)\n",
    "            else:\n",
    "                enc_output = enc_layer(enc_input=enc_output, \n",
    "                                       enc_mask=attn_mask, \n",
    "                                       non_pad_mask=non_pad_mask)\n",
    "        \n",
    "        if self.return_attn:\n",
    "            return enc_output, self_attns\n",
    "        return enc_output"
   ]
  },
  {
   "cell_type": "code",
   "execution_count": 41,
   "metadata": {},
   "outputs": [],
   "source": [
    "class Decoder(nn.Module):\n",
    "    def __init__(self, vocab_len, max_seq_len, n_layer, n_head, d_model, d_k, d_v, d_f, \n",
    "                 pad_idx=0, drop_rate=0.1, use_conv=False, return_attn=True):\n",
    "        super(Decoder, self).__init__()\n",
    "        self.pad_idx = pad_idx\n",
    "        self.return_attn = return_attn\n",
    "        self.dropout = nn.Dropout(drop_rate)\n",
    "        self.embed_layer = Embedding(vocab_len, d_model, pad_idx=pad_idx)\n",
    "        self.pos_layer = PositionalEncoding(max_seq_len+1, d_model, pad_idx=0)\n",
    "        self.layers = nn.ModuleList([Decode_Layer(n_head, d_model, d_k, d_v, d_f, \n",
    "                                                  drop_rate=drop_rate, \n",
    "                                                  use_conv=use_conv,\n",
    "                                                  return_attn=return_attn) \\\n",
    "                                     for i in range(n_layer)])\n",
    "        \n",
    "    def forward(self, dec, dec_pos, enc, enc_output):\n",
    "        \"\"\"\n",
    "        Inputs:\n",
    "        * dec: (B, T_q)\n",
    "        * dec_pos: (B, T_q)\n",
    "        * enc: (B, T)\n",
    "        * enc_output: (B, T, d_model)\n",
    "        -------------------------------------\n",
    "        Outputs:\n",
    "        * dec_output: (B, T_q, d_model)\n",
    "        * self_attns: (n_head*B, T_q, T_q)\n",
    "        * dec_enc_attns: (n_haed*B, T_q, T)\n",
    "        \"\"\"\n",
    "        self_attns = []  # (n_layer, n_head*B, T_q, T_q)\n",
    "        dec_enc_attns = []  # (n_layer, n_head*B, T_q, T)\n",
    "        \n",
    "        # self attention padding mask: (B, T_q, T)\n",
    "        non_pad_mask = get_padding_mask(q=dec, pad_idx=self.pad_idx, mode='nonpad')\n",
    "        attn_mask = get_padding_mask(q=dec, k=dec, pad_idx=self.pad_idx, mode='attn')\n",
    "        subseq_mask = get_padding_mask(q=dec, mode='subseq')\n",
    "        self_attn_mask = (attn_mask + subseq_mask).gt(0)\n",
    "        # enc_dec attention padding mask\n",
    "        dec_enc_attn_mask = get_padding_mask(q=dec, k=enc, pad_idx=self.pad_idx, mode='attn')\n",
    "        \n",
    "        # embedding + position encoding: (B, T) --> (B, T, d_model)\n",
    "        dec_output = self.embed_layer(dec) + self.pos_layer(dec_pos)\n",
    "        dec_output = self.dropout(dec_output)\n",
    "        # forward decode layer\n",
    "        for dec_layer in self.layers:\n",
    "            if self.return_attn:\n",
    "                dec_output, dec_self_attn, dec_enc_attn = dec_layer(dec_input=dec_output, \n",
    "                                                                    enc_output=enc_output, \n",
    "                                                                    dec_self_mask=self_attn_mask, \n",
    "                                                                    dec_enc_mask=dec_enc_attn_mask,\n",
    "                                                                    non_pad_mask=non_pad_mask)\n",
    "                self_attns.append(dec_self_attn)\n",
    "                dec_enc_attns.append(dec_enc_attn)\n",
    "            else:\n",
    "                dec_output = dec_layer(dec_input=dec_output, \n",
    "                                       enc_output=enc_output, \n",
    "                                       dec_self_mask=self_attn_mask, \n",
    "                                       dec_enc_mask=dec_enc_attn_mask,\n",
    "                                       non_pad_mask=non_pad_mask)\n",
    "        \n",
    "        if self.return_attn:\n",
    "            return dec_output, self_attns, dec_enc_attns\n",
    "        return dec_output"
   ]
  },
  {
   "cell_type": "code",
   "execution_count": 42,
   "metadata": {},
   "outputs": [],
   "source": [
    "n_layer = 3\n",
    "encoder = Encoder(vocab_len, 3, n_layer, n_head, d_model, d_k, d_v, d_f)\n",
    "decoder = Decoder(vocab_len, 4, n_layer, n_head, d_model, d_k, d_v, d_f)"
   ]
  },
  {
   "cell_type": "code",
   "execution_count": 43,
   "metadata": {},
   "outputs": [],
   "source": [
    "enc_output, enc_self_attns = encoder(x, po_x)\n",
    "dec_output, dec_self_attns, dec_enc_attns = decoder.forward(t, po_t, x, enc_output)"
   ]
  },
  {
   "cell_type": "code",
   "execution_count": 44,
   "metadata": {},
   "outputs": [
    {
     "data": {
      "text/plain": [
       "(torch.Size([4, 3, 256]), torch.Size([4, 4, 256]))"
      ]
     },
     "execution_count": 44,
     "metadata": {},
     "output_type": "execute_result"
    }
   ],
   "source": [
    "enc_output.size(), dec_output.size()"
   ]
  },
  {
   "cell_type": "code",
   "execution_count": 45,
   "metadata": {},
   "outputs": [],
   "source": [
    "class Transformer(nn.Module):\n",
    "    def __init__(self, enc_vocab_len, enc_max_seq_len, dec_vocab_len, dec_max_seq_len, \n",
    "                 n_layer, n_head, d_model, d_k, d_v, d_f, \n",
    "                 pad_idx=0, drop_rate=0.1, use_conv=False, return_attn=True,\n",
    "                 linear_weight_share=True, embed_weight_share=True):\n",
    "        super(Transformer, self).__init__()\n",
    "        self.return_attn = return_attn\n",
    "        self.pad_idx = pad_idx\n",
    "        self.d_model = d_model\n",
    "        \n",
    "        self.encoder = Encoder(enc_vocab_len, enc_max_seq_len, n_layer, n_head, \n",
    "                               d_model, d_k, d_v, d_f, \n",
    "                               pad_idx=pad_idx, \n",
    "                               drop_rate=drop_rate, \n",
    "                               use_conv=use_conv, \n",
    "                               return_attn=return_attn)\n",
    "        self.decoder = Decoder(dec_vocab_len, dec_max_seq_len, n_layer, n_head, \n",
    "                               d_model, d_k, d_v, d_f,\n",
    "                               pad_idx=pad_idx, \n",
    "                               drop_rate=drop_rate, \n",
    "                               use_conv=use_conv, \n",
    "                               return_attn=return_attn)\n",
    "        self.projection = XavierLinear(d_model, dec_vocab_len, bias=False)\n",
    "        if linear_weight_share:\n",
    "            # share the same weight matrix between the decoder embedding layer \n",
    "            # and the pre-softmax linear transformation\n",
    "            self.projection.linear.weight = self.decoder.embed_layer.embedding.weight\n",
    "        \n",
    "        if embed_weight_share:\n",
    "            # share the same weight matrix between the decoder embedding layer \n",
    "            # and the encoder embedding layer\n",
    "            assert enc_vocab_len == dec_vocab_len, \"vocab length must be same\"\n",
    "            self.encoder.embed_layer.embedding.weight = self.decoder.embed_layer.embedding.weight\n",
    "            \n",
    "    def forward(self, enc, enc_pos, dec, dec_pos):\n",
    "        \"\"\"\n",
    "        Inputs:\n",
    "        * enc: (B, T)\n",
    "        * enc_pos: (B, T)\n",
    "        * dec: (B, T_q)\n",
    "        * dec_pos: (B, T_q)\n",
    "        -------------------------------------\n",
    "        Outputs:\n",
    "        * dec_output: (B*T_q, d_model)\n",
    "        * attns_dict:\n",
    "            * enc_self_attns: (n_head*B, T, T)\n",
    "            * dec_self_attns: (n_head*B, T_q, T_q)\n",
    "            * dec_enc_attns: (n_haed*B, T_q, T)\n",
    "        \"\"\"\n",
    "        if self.return_attn:\n",
    "            enc_output, enc_self_attns = self.encoder(enc, enc_pos)\n",
    "            dec_output, dec_self_attns, dec_enc_attns = self.decoder(dec, dec_pos, enc, enc_output)\n",
    "            dec_output = self.projection(dec_output)\n",
    "            attns_dict = {'enc_self_attns': enc_self_attns, \n",
    "                         'dec_self_attns': dec_self_attns,\n",
    "                         'dec_enc_attns': dec_enc_attns}\n",
    "            return dec_output.view(-1, dec_output.size(2)), attns_dict\n",
    "        else:\n",
    "            enc_output = self.encoder(enc, enc_pos)\n",
    "            dec_output = self.decoder(dec, dec_pos, enc, enc_output)\n",
    "            dec_output = self.projection(dec_output)\n",
    "            return dec_output.view(-1, dec_output.size(2))"
   ]
  },
  {
   "cell_type": "code",
   "execution_count": 46,
   "metadata": {},
   "outputs": [],
   "source": [
    "model = Transformer(vocab_len, 3, vocab_len, 4, n_layer, n_head, d_model, d_k, d_v, d_f, \n",
    "                 pad_idx=0, drop_rate=0.1, use_conv=False, return_attn=False,\n",
    "                 linear_weight_share=True, embed_weight_share=False)"
   ]
  },
  {
   "cell_type": "code",
   "execution_count": 47,
   "metadata": {},
   "outputs": [],
   "source": [
    "output = model(x, po_x, t, po_t)"
   ]
  },
  {
   "cell_type": "code",
   "execution_count": 48,
   "metadata": {
    "scrolled": true
   },
   "outputs": [
    {
     "data": {
      "text/plain": [
       "torch.Size([16, 10])"
      ]
     },
     "execution_count": 48,
     "metadata": {},
     "output_type": "execute_result"
    }
   ],
   "source": [
    "output.size()"
   ]
  },
  {
   "cell_type": "markdown",
   "metadata": {},
   "source": [
    "## Label Smoothing"
   ]
  },
  {
   "cell_type": "markdown",
   "metadata": {},
   "source": [
    "* Ref: https://arxiv.org/pdf/1512.00567.pdf\n",
    "\n",
    "cross-entropy: $l = - \\sum_{k=1}^{K} \\log(p(k))q(k)$\n",
    "\n",
    "$\\dfrac{\\partial l}{\\partial z_{k}} = p(k) - q(k)$ where $q(k) = \\delta_{k, y}$\n",
    "\n",
    "$q(k)$ is not achivable, where $z_y \\gg z_k$ where $k \\neq y$\n",
    "\n",
    "Only using cross-entropy loss cause two problems. First, it may result in over-fitting: if the model learns to assign full probability to the groundtruth label for each training example, it is not guaranteed to generalize. Second, it encourages the differences between the largest logit and all others to become large, and this, combined with the bounded gradient $\\frac{\\partial l}{\\partial z_{k}}$, reduces the ability of the model to adapt. Intuitively, this happens because the model becomes too confident about its predictions"
   ]
  },
  {
   "cell_type": "markdown",
   "metadata": {},
   "source": [
    "### proposed method: label-smoothing regularization\n",
    "\n",
    "* $u(k)$: a distribution over labels, independent of the training example $x$\n",
    "* $\\epsilon$: a smoothing parameter\n",
    "\n",
    "For a training example with ground-truth label $y$, replace the label distribution $q(k) = \\delta_{k, y}$ to\n",
    "\n",
    "$$q'(k \\vert x) = (1-\\epsilon)\\delta_{k, y}+\\epsilon u(k)$$\n",
    "\n",
    "This can be seen as the distribution of the label $k$ obtained as follows: first, set it to the groundtruth label $k = y$; then, with probability $\\epsilon$, replace $k$ with a sample drawn from the distribution $u(k)$. We propose to use the prior distribution over labels as $u(k)$. In our experiments, we used the uniform distribution $u(k) = 1/K$, so that\n",
    "\n",
    "$$q'(k \\vert x) = (1-\\epsilon)\\delta_{k, y}+ \\dfrac{\\epsilon}{K}$$"
   ]
  },
  {
   "cell_type": "markdown",
   "metadata": {},
   "source": [
    "Another interpretation: $q'$ is changed true probability.\n",
    "\n",
    "$$\\begin{aligned} H(q', p) &= -\\sum_{k=1}^K q'(k) \\log p(k)  \\\\\n",
    "&= -\\sum_{k=1}^K \\big( ((1-\\epsilon)q(x) + \\epsilon u(x)) \\log p(k) \\big) \\\\\n",
    "&= -\\sum_{k=1}^K (1-\\epsilon)q(x) \\log p(k) + -\\sum_{k=1}^K \\epsilon u(x) \\log p(k) \\\\\n",
    "&= (1-\\epsilon) H(q, p) + \\epsilon H(u, p) \\end{aligned}$$\n",
    "\n",
    "this can be seen as $H(q', p) = H(q, p) + \\dfrac{\\epsilon}{(1-\\epsilon) } \\big( D_{KL}(u \\vert\\vert p) + H(u) \\big) $ and $H(u)$ is fixed. When $u$ is the uniform distribution, $H(u, p)$ is a measure of how dissimilar the predicted distribution $p$ is to uniform, which could also be measured (but not equivalently) by negative entropy $−H(p)$;\n",
    "\n"
   ]
  },
  {
   "cell_type": "code",
   "execution_count": 77,
   "metadata": {},
   "outputs": [],
   "source": [
    "class LabelSmoothing(nn.Module):\n",
    "    \"\"\"Label Smoothing\"\"\"\n",
    "    def __init__(self, trg_vocab_size, pad_idx, eps=0.0):\n",
    "        super(LabelSmoothing, self).__init__()\n",
    "#         self.criterion = nn.KLDivLoss(reduction='sum')\n",
    "        self.criterion = nn.CrossEntropyLoss(ignore_index=0, reduction='sum')\n",
    "        self.pad_idx = pad_idx\n",
    "        self.eps = eps\n",
    "        self.trg_vocab_size = trg_vocab_size\n",
    "        self.true_dist = None\n",
    "        \n",
    "    def forward(self, x, target):\n",
    "        \"\"\"\n",
    "        Inputs:\n",
    "        x: (B, T_q, V_target), scores\n",
    "        t: (B, T_q)\n",
    "        ref: https://arxiv.org/pdf/1512.00567.pdf  \n",
    "        #7\n",
    "        q'(k | x) = (1 - eps) q(k) + eps * u(k)\n",
    "        where: q(k) = 1 if k == 'target class' else 0\n",
    "        \"\"\"\n",
    "        \n",
    "        assert x.size(1) == self.trg_vocab_size, \\\n",
    "            'vocab size is not equal x: {}, vocab: {}'.format(x.size(1), self.trg_vocab_size)\n",
    "        assert target.dim() == 2, 't must be size of (B, T_q)'\n",
    "        if self.eps == 0.0:\n",
    "            x = x.view(-1, x.size(2))\n",
    "            return self.criterion(x, target.view(-1))\n",
    "        \n",
    "        true_dist = torch.zeros_like(x)\n",
    "        true_dist = true_dist.scatter(1, target.view(-1, 1), 1.0)\n",
    "        true_dist = (1 - self.eps) * true_dist + self.eps / (self.trg_vocab_size -1)\n",
    "        log_prob = F.log_softmax(x, dim=1)\n",
    "        loss = -(true_dist * log_prob).sum(1)\n",
    "        non_pad_mask = target.view(-1).ne(self.pad_idx)\n",
    "        self.true_dist = true_dist\n",
    "        loss = loss.masked_select(non_pad_mask).sum()\n",
    "        return loss\n",
    "        \n",
    "#         true_dist = x.clone()\n",
    "#         # u(k) = 1 / K, exclude token <s>, <pad>\n",
    "#         true_dist.fill_(self.eps / (self.trg_vocab_size - 2))  \n",
    "#         # at target index, value is (1-eps) * 1\n",
    "#         true_dist.scatter_(1, target.view(-1, 1), self.confidence)\n",
    "#         true_dist[:, self.pad_idx] = 0  # exclude token <s>\n",
    "#         mask = torch.nonzero(target.view(-1) == self.pad_idx)\n",
    "#         if mask.dim() > 0:\n",
    "#             true_dist.index_fill_(0, mask.squeeze(), 0.0)\n",
    "#         self.true_dist = true_dist\n",
    "#         return self.criterion(x.log_softmax(1), true_dist.detach())"
   ]
  },
  {
   "cell_type": "code",
   "execution_count": 78,
   "metadata": {},
   "outputs": [],
   "source": [
    "lbs = LabelSmoothing(10, 0, eps=0.1)"
   ]
  },
  {
   "cell_type": "code",
   "execution_count": 79,
   "metadata": {},
   "outputs": [
    {
     "data": {
      "text/plain": [
       "tensor(65.3785, grad_fn=<SumBackward0>)"
      ]
     },
     "execution_count": 79,
     "metadata": {},
     "output_type": "execute_result"
    }
   ],
   "source": [
    "lbs(output, t)"
   ]
  },
  {
   "cell_type": "code",
   "execution_count": 52,
   "metadata": {},
   "outputs": [],
   "source": [
    "# one_hot = torch.zeros_like(pred).scatter(1, gold.view(-1, 1), 1)\n",
    "# one_hot = one_hot * (1 - eps) + (1 - one_hot) * eps / (n_class - 1)\n",
    "# log_prb = F.log_softmax(pred, dim=1)\n",
    "\n",
    "# non_pad_mask = gold.ne(Constants.PAD)\n",
    "# loss = -(one_hot * log_prb).sum(dim=1)\n",
    "# loss = loss.masked_select(non_pad_mask).sum()  # average later"
   ]
  }
 ],
 "metadata": {
  "kernelspec": {
   "display_name": "Python 3",
   "language": "python",
   "name": "python3"
  },
  "language_info": {
   "codemirror_mode": {
    "name": "ipython",
    "version": 3
   },
   "file_extension": ".py",
   "mimetype": "text/x-python",
   "name": "python",
   "nbconvert_exporter": "python",
   "pygments_lexer": "ipython3",
   "version": "3.6.5"
  }
 },
 "nbformat": 4,
 "nbformat_minor": 2
}
