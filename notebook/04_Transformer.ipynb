{
 "cells": [
  {
   "cell_type": "markdown",
   "metadata": {},
   "source": [
    "# The Annotated Transformer KR"
   ]
  },
  {
   "cell_type": "markdown",
   "metadata": {},
   "source": [
    "## Attention in Transformer\n",
    "\n",
    "Transformer 에 사용되는 \n",
    "\n",
    "### encoder-decoder attention\n",
    "\n",
    "mimics the encoder-decoder attention mechanisms\n",
    "\n",
    "* queries : from the previous decoder layer\n",
    "* keys    : from the output of encoder\n",
    "* values  : from the output of encoder\n",
    "\n",
    "### encoder + self-attention\n",
    "\n",
    "* queries : from the previous output of encoder\n",
    "* keys    : from the previous output of encoder\n",
    "* values  : from the previous output of encoder\n",
    "\n",
    "### attention with mask\n",
    "\n",
    "prevent leftward information flow in decoder to preserve the auto-regressive property\n",
    "\n",
    "* implement by masking out inside of scaled dot-product attention"
   ]
  },
  {
   "cell_type": "markdown",
   "metadata": {},
   "source": [
    "## Dataset - Flickr30k\n",
    "\n",
    "The small-dataset WMT 2016 multimodal task, also known as Flickr30k"
   ]
  },
  {
   "cell_type": "markdown",
   "metadata": {},
   "source": [
    "install spacy de to tokenize German \n",
    "\n",
    "```\n",
    "pip install spacy\n",
    "python -m spacy download en\n",
    "python -m spacy download de\n",
    "```"
   ]
  },
  {
   "cell_type": "code",
   "execution_count": 1,
   "metadata": {},
   "outputs": [],
   "source": [
    "import spacy\n",
    "import torchtext.datasets as datasets\n",
    "from torchtext import data, datasets\n",
    "from torchtext.data import Field, BucketIterator, TabularDataset"
   ]
  },
  {
   "cell_type": "code",
   "execution_count": 2,
   "metadata": {},
   "outputs": [],
   "source": [
    "spacy_de = spacy.load('de')\n",
    "spacy_en = spacy.load('en')\n",
    "def tokenize_de(text):\n",
    "    return [tok.text for tok in spacy_de.tokenizer(text)]\n",
    "\n",
    "def tokenize_en(text):\n",
    "    return [tok.text for tok in spacy_en.tokenizer(text)]\n",
    "\n",
    "# set up fields\n",
    "SRC = Field(tokenize=tokenize_en, \n",
    "            use_vocab=True, \n",
    "            lower=True, \n",
    "            include_lengths=False, \n",
    "            fix_length=50, # fix max length\n",
    "            batch_first=True)\n",
    "TRG = Field(tokenize=tokenize_de, \n",
    "            use_vocab=True,\n",
    "            init_token='<s>',\n",
    "            eos_token='</s>', \n",
    "            lower=True, \n",
    "            fix_length=50,  # fix max length\n",
    "            batch_first=True)\n",
    "\n",
    "# make splits for data\n",
    "train, valid, test = datasets.Multi30k.splits(('.en', '.de'), (SRC, TRG), root=\"../data\")\n",
    "\n",
    "# build the vocabulary\n",
    "SRC.build_vocab(train.src, min_freq=1)\n",
    "TRG.build_vocab(train.trg, min_freq=1)\n",
    "\n",
    "# make iterator for splits\n",
    "train_iter, valid_iter, test_iter = data.BucketIterator.splits((train, valid, test), batch_size=3, device=\"cpu\")"
   ]
  },
  {
   "cell_type": "markdown",
   "metadata": {},
   "source": [
    "### why do we need maximum sequence length?\n",
    "\n",
    "In RNN, we don't need to consider maximum sequence length since it automatically runs by rnn-cell like below. For example, if there is a input tensor which has size of `(seqlen, batch, input_size)`, output of rnn will be `(seqlen, batch, hidden_size)`."
   ]
  },
  {
   "cell_type": "code",
   "execution_count": 4,
   "metadata": {},
   "outputs": [
    {
     "data": {
      "text/plain": [
       "torch.Size([10, 5, 7])"
      ]
     },
     "execution_count": 4,
     "metadata": {},
     "output_type": "execute_result"
    }
   ],
   "source": [
    "import torch\n",
    "import torch.nn as nn\n",
    "seqlen = 10\n",
    "batch = 5\n",
    "hidden_size = 7\n",
    "input_size = 6\n",
    "rnn_cell = nn.RNNCell(input_size, hidden_size)\n",
    "\n",
    "inputs = torch.rand(seqlen, batch, input_size)\n",
    "hidden = torch.zeros(batch, hidden_size)\n",
    "output = []\n",
    "for t in range(seqlen):\n",
    "    hidden = rnn_cell(inputs[t], hidden)\n",
    "    output.append(hidden)\n",
    "output = torch.stack(output)\n",
    "output.size()"
   ]
  },
  {
   "cell_type": "markdown",
   "metadata": {},
   "source": [
    "So we don't need to consider how long the sequence length is, as it runs through `for` loop. However, all sequences are calculated together at once in \"transformer\", there is no method can deliver information from previous sequence to next sequence. The information only flows form bottom to top!\n",
    "\n",
    "The reason than model can't deliver information from previous sequence to next sequence is also can consider as there is no linear mapping and activation between sequences tensors. Think about how rnn_cell function at time $t$ below.\n",
    "\n",
    "$h_{t+1} =tanh(w_{ih}x_{t}+b_{ih}+w_{hh}h_t+b_{hh}) \\qquad \\text{for}\\ t\\ \\text{in range(max-seq-len)}$\n",
    "\n",
    "why this is important? Because linear mapping and activation is the core idea of deep learning by using a lot of activation function to approximate turth fucntion between features(neurons). If there's no linear mapping and activation, you can't find relations between input tensors."
   ]
  },
  {
   "cell_type": "markdown",
   "metadata": {},
   "source": [
    "<img src=\"model_arch.png\" width=\"30%\">"
   ]
  },
  {
   "cell_type": "markdown",
   "metadata": {},
   "source": [
    "## Training Details"
   ]
  },
  {
   "cell_type": "code",
   "execution_count": 5,
   "metadata": {},
   "outputs": [],
   "source": [
    "# import packages\n",
    "import torch\n",
    "import torch.nn as nn\n",
    "import torch.nn.functional as F\n",
    "import torch.optim as optim\n",
    "import numpy as np\n",
    "import matplotlib.pyplot as plt"
   ]
  },
  {
   "cell_type": "markdown",
   "metadata": {},
   "source": [
    "* paper : https://arxiv.org/abs/1706.03762\n",
    "* reference blog: http://nlp.seas.harvard.edu/2018/04/03/attention.html\n",
    "* reference code: https://github.com/jadore801120/attention-is-all-you-need-pytorch"
   ]
  },
  {
   "cell_type": "markdown",
   "metadata": {},
   "source": [
    "The encoder maps input sequences to a sequence of continuous representations $x=(x_1 \\cdots, x_n) \\rightarrow z=(z_1, \\cdots, y_n)$, given $z$ generates an output sequence $y=(y_1, \\cdots, y_n)$"
   ]
  },
  {
   "cell_type": "markdown",
   "metadata": {},
   "source": [
    "## 3.2.1 Scaled Dot-Product Attention\n",
    "\n",
    "<img src=\"scaledot_attn.png\" width=\"30%\">"
   ]
  },
  {
   "cell_type": "code",
   "execution_count": 6,
   "metadata": {},
   "outputs": [],
   "source": [
    "class ScaledDotProductAttention(nn.Module):\n",
    "    \"\"\"Scaled Dot-Product Attention\"\"\"\n",
    "    def __init__(self, d_k, return_attn=True):\n",
    "        super(ScaledDotProductAttention, self).__init__()\n",
    "        self.return_attn = return_attn\n",
    "        self.d_k = d_k\n",
    "        \n",
    "    def forward(self, q, k, v, mask=None):\n",
    "        \"\"\"\n",
    "        Inputs:\n",
    "        * q: (B, T_q, d_k)\n",
    "        * k: (B, T_k, d_k)\n",
    "        * v: (B, T_v, d_v)  //  T_k = T_v\n",
    "        -------------------------------\n",
    "        Outputs:\n",
    "        * output: (B, T_q, d_v)\n",
    "        * attn: (B, T_q, T_k)\n",
    "        \"\"\"\n",
    "        assert q.size(2) == k.size(2), \"keys & quries must have same dimension\"\n",
    "        assert k.size(1) == v.size(1), \"T_k = T_v\"\n",
    "        attn = torch.bmm(q, k.transpose(1, 2))  # (B, T_q, d_k) * (B, d_k, T_k) -> (B, T_q, T_k)\n",
    "        attn = attn / np.sqrt(self.d_k)\n",
    "        # why doing this? \n",
    "        # for the large values of d_k, the dot products grow large in magnitude, \n",
    "        # pushing the softmax function into regions where it has extremely small gradients\n",
    "        # to counteract this effect, scaled the dot products by 1/sqrt(d_k)\n",
    "        # to illustrate why the dot products get large,\n",
    "        # check the function 'check_dotproduct_dist'\n",
    "        if mask is not None:\n",
    "            attn = attn.masked_fill(mask, -np.inf)\n",
    "        \n",
    "        attn = torch.softmax(attn, dim=2)  # (B, T_q, T_k) --> (B, T_q, T_k)\n",
    "        output = torch.bmm(attn, v)  # (B, T_q, T_k) * (B, T_v, d_v) --> (B, T_q, d_v), make sure that T_k == T_v\n",
    "        if self.return_attn:\n",
    "            return output, attn\n",
    "        return output"
   ]
  },
  {
   "cell_type": "code",
   "execution_count": 7,
   "metadata": {},
   "outputs": [],
   "source": [
    "# ex) translation: \n",
    "# q - previous decoder\n",
    "# k, v - encoder output\n",
    "# mask should be (B, T_q, T_k), will talk about it later\n",
    "batch = 1\n",
    "T_q = 3\n",
    "T_k, T_v = (4, 4)\n",
    "d_k = 10\n",
    "d_v = 12\n",
    "mask = torch.ByteTensor([[[0, 1, 1, 1],\n",
    "                          [0, 0, 1, 1],\n",
    "                          [0, 0, 0, 1]]])\n",
    "q, k, v = torch.randn((batch, T_q, d_k)), torch.randn((batch, T_k, d_k)), torch.randn((batch, T_v, d_v))\n",
    "attention = ScaledDotProductAttention(d_k)"
   ]
  },
  {
   "cell_type": "code",
   "execution_count": 8,
   "metadata": {},
   "outputs": [
    {
     "data": {
      "text/plain": [
       "(torch.Size([1, 3, 12]), torch.Size([1, 3, 4]))"
      ]
     },
     "execution_count": 8,
     "metadata": {},
     "output_type": "execute_result"
    }
   ],
   "source": [
    "output, attn = attention(q, k, v, mask=mask)\n",
    "# output size: (B, T_q, d_v)\n",
    "# attn size: (B, T_q, T_k)\n",
    "output.size(), attn.size()"
   ]
  },
  {
   "cell_type": "code",
   "execution_count": 9,
   "metadata": {},
   "outputs": [
    {
     "data": {
      "image/png": "[encoded data removed]",
      "text/plain": [
       "<Figure size 384x288 with 1 Axes>"
      ]
     },
     "metadata": {
      "needs_background": "light"
     },
     "output_type": "display_data"
    }
   ],
   "source": [
    "plt.matshow(attn.squeeze(0).numpy(), cmap=\"binary\")\n",
    "plt.show()"
   ]
  },
  {
   "cell_type": "code",
   "execution_count": 10,
   "metadata": {},
   "outputs": [],
   "source": [
    "def check_dotproduct_dist(d_k, sampling_size=1, seq_len=1, threshold=1e-10):\n",
    "    \"\"\"\n",
    "    to check \"https://arxiv.org/abs/1706.03762\" Paper page 4, annotation 4\n",
    "    -------------------------------\n",
    "    To illustrate why the dot products get large, \n",
    "    assume that the components of q and k are independent random variables \n",
    "    with mean 0 and variance 1.\n",
    "    Then their dot product has mean 0 and variance d_k\n",
    "    \n",
    "    ```\n",
    "    print(\"*** notice that the gradient of softmax is y(1-y) ***\")\n",
    "    for d_k in [10, 100, 1000]:\n",
    "        check_dotproduct_dist(d_k, sampling_size=100000, seq_len=5, threshold=1e-10)\n",
    "    ```\n",
    "    \n",
    "    \"\"\"\n",
    "    def cal_grad(attn):\n",
    "        y = torch.softmax(attn, dim=2)\n",
    "        return y * (1-y)\n",
    "    \n",
    "    q = nn.init.normal_(torch.rand((sampling_size, seq_len, d_k)), mean=0, std=1)\n",
    "    k = nn.init.normal_(torch.rand((sampling_size, seq_len, d_k)), mean=0, std=1)\n",
    "    attn = torch.bmm(q, k.transpose(1, 2))\n",
    "    print(f\"size of vector d_k is {d_k}, sampling result, dot product distribution has\")\n",
    "    print(f\" - mean: {attn.mean().item():.4f}, \\n - var: {attn.var().item():.4f}\")\n",
    "    grad = cal_grad(attn)\n",
    "    g_sum = grad.le(threshold).sum()\n",
    "    g_percent = g_sum.item()/grad.view(-1).size(0)*100\n",
    "    print(f\"count of gradients that smaller than threshod({threshold}) is {g_sum}, {g_percent:.2f}%\")\n",
    "    \n",
    "    attn2 = attn / torch.sqrt(torch.as_tensor(d_k).float())\n",
    "    grad2 = cal_grad(attn2)\n",
    "    g_sum2 = grad2.le(threshold).sum()\n",
    "    g_percent2 = g_sum2.item()/grad2.view(-1).size(0)*100\n",
    "    print(f\"after divide by sqrt(d_k), count of gradients that smaller than threshod({threshold}) is {g_sum2}, {g_percent2:.2f}% \\n\")"
   ]
  },
  {
   "cell_type": "code",
   "execution_count": 11,
   "metadata": {
    "scrolled": true
   },
   "outputs": [
    {
     "name": "stdout",
     "output_type": "stream",
     "text": [
      "*** notice that the gradient of softmax is y(1-y) ***\n",
      "size of vector d_k is 10, sampling result, dot product distribution has\n",
      " - mean: -0.0011, \n",
      " - var: 9.9158\n",
      "count of gradients that smaller than threshod(1e-10) is 14, 0.01%\n",
      "after divide by sqrt(d_k), count of gradients that smaller than threshod(1e-10) is 0, 0.00% \n",
      "\n",
      "size of vector d_k is 100, sampling result, dot product distribution has\n",
      " - mean: 0.0007, \n",
      " - var: 99.3950\n",
      "count of gradients that smaller than threshod(1e-10) is 39894, 15.96%\n",
      "after divide by sqrt(d_k), count of gradients that smaller than threshod(1e-10) is 0, 0.00% \n",
      "\n",
      "size of vector d_k is 1000, sampling result, dot product distribution has\n",
      " - mean: -0.0147, \n",
      " - var: 1006.5309\n",
      "count of gradients that smaller than threshod(1e-10) is 173883, 69.55%\n",
      "after divide by sqrt(d_k), count of gradients that smaller than threshod(1e-10) is 0, 0.00% \n",
      "\n"
     ]
    }
   ],
   "source": [
    "print(\"*** notice that the gradient of softmax is y(1-y) ***\")\n",
    "for d_k in [10, 100, 1000]:\n",
    "    check_dotproduct_dist(d_k, sampling_size=10000, seq_len=5, threshold=1e-10)"
   ]
  },
  {
   "cell_type": "markdown",
   "metadata": {},
   "source": [
    "## 3.2.2 Multi-Head Attention\n",
    "\n",
    "<img src=\"multihead_attn.png\" width=\"30%\">"
   ]
  },
  {
   "cell_type": "code",
   "execution_count": 12,
   "metadata": {},
   "outputs": [],
   "source": [
    "class MultiHeadAttention(nn.Module):\n",
    "    \"\"\"Multi-head Attention\"\"\"\n",
    "    def __init__(self, n_head, d_model, d_k, d_v, drop_rate=0.1, return_attn=True):\n",
    "        \"\"\"\n",
    "        paper setting: n_head = 8, d_k = d_v = d_model / n_head = 64\n",
    "        Multi-head attention allows the model to jointly attend to information from \n",
    "        different representation subspaces at different positions.\n",
    "        with a single attention head, averaging inhibits this.\n",
    "        \"\"\"\n",
    "        super(MultiHeadAttention, self).__init__()\n",
    "        self.n_head = n_head\n",
    "        self.d_model = d_model\n",
    "        self.d_k = d_k\n",
    "        self.d_v = d_v\n",
    "        self.return_attn = return_attn\n",
    "        self.linear_q = nn.Linear(d_model, n_head*d_k)\n",
    "        self.linear_k = nn.Linear(d_model, n_head*d_k)\n",
    "        self.linear_v = nn.Linear(d_model, n_head*d_v)\n",
    "        self.linear_o = nn.Linear(n_head*d_v, d_model)\n",
    "        self.attention = ScaledDotProductAttention(d_k, return_attn=return_attn)\n",
    "        self.drop_out = nn.Dropout(drop_rate)\n",
    "        \n",
    "    def forward(self, q, k, v, mask=None):\n",
    "        \"\"\"\n",
    "        Inputs:\n",
    "        * q: (B, T_q, d_model)\n",
    "        * k: (B, T_k, d_model)\n",
    "        * v: (B, T_v, d_model)\n",
    "        * mask: (B, T_q, T_k)\n",
    "        ---------------------\n",
    "        Outputs:\n",
    "        * output: (B, T_q, d_model)\n",
    "        * attn: (n_head, B, T_q, T_k)\n",
    "        \"\"\"\n",
    "        n_head, d_model, d_k, d_v = self.n_head, self.d_model, self.d_k, self.d_v\n",
    "        B, T_q, _ = q.size()\n",
    "        B, T_k, _ = k.size()\n",
    "        B, T_v, _ = v.size()\n",
    "        # through linear layer: \n",
    "        # lin_qs : (B, T_q, d_model) --> (B, T_q, n_head * d_k) --> (n_head * B, T_q, d_k)\n",
    "        # lin_ks : (B, T_k, d_model) --> (B, T_k, n_head * d_k) --> (n_head * B, T_k, d_k)\n",
    "        # lin_vs : (B, T_v, d_model) --> (B, T_v, n_head * d_v) --> (n_head * B, T_v, d_v)\n",
    "        lin_qs = torch.cat(self.linear_q(q).chunk(n_head, dim=2), dim=0)\n",
    "        lin_ks = torch.cat(self.linear_k(k).chunk(n_head, dim=2), dim=0)\n",
    "        lin_vs = torch.cat(self.linear_v(v).chunk(n_head, dim=2), dim=0)\n",
    "        \n",
    "        if mask is not None:\n",
    "            mask = mask.repeat(n_head, 1, 1)\n",
    "\n",
    "        # attention: Scaled Dot-Product Attention\n",
    "        ## heads: (n_head * B, T_q, d_v)\n",
    "        ## attn: (n_head * B, T_q, T_k)\n",
    "        if self.return_attn:\n",
    "            heads, attn = self.attention(q=lin_qs, k=lin_ks, v=lin_vs, mask=mask)\n",
    "        else:\n",
    "            heads = self.attention(q=lin_qs, k=lin_ks, v=lin_vs, mask=mask)\n",
    "        # concat\n",
    "        # be aware `heads.view(batch, T_q, n_head*d_k)` is not same as `torch.cat(heads.chunk(n_head, dim=0), dim=-1)`\n",
    "        # (n_head * B, T_q, d_v) --> (B, T_q, n_head * d_v)\n",
    "        heads_cat = torch.cat(heads.chunk(n_head, dim=0), dim=-1)\n",
    "        output = self.linear_o(heads_cat)  # (B, T_q, n_head * d_v) --> (B, T_q, d_model)\n",
    "        output = self.drop_out(output)\n",
    "        if self.return_attn:\n",
    "            return output, attn.view(n_head, B, T_q, T_k).detach()\n",
    "        return output"
   ]
  },
  {
   "cell_type": "code",
   "execution_count": 13,
   "metadata": {},
   "outputs": [
    {
     "data": {
      "text/plain": [
       "(torch.Size([1, 3, 24]), torch.Size([1, 5, 24]), torch.Size([1, 5, 24]))"
      ]
     },
     "execution_count": 13,
     "metadata": {},
     "output_type": "execute_result"
    }
   ],
   "source": [
    "batch = 1\n",
    "T_q = 3\n",
    "T_k, T_v = (5, 5)\n",
    "n_head = 8\n",
    "d_model = 3*n_head\n",
    "d_k = 5\n",
    "d_v = 5\n",
    "mask = torch.ByteTensor([[[0, 1, 1, 1, 1],\n",
    "                          [0, 0, 1, 1, 1],\n",
    "                          [0, 0, 0, 0, 1]]])\n",
    "q, k, v = torch.randn((batch, T_q, d_model)), torch.randn((batch, T_k, d_model)), torch.randn((batch, T_v, d_model))\n",
    "q.size(), k.size(), v.size()"
   ]
  },
  {
   "cell_type": "code",
   "execution_count": 14,
   "metadata": {},
   "outputs": [
    {
     "data": {
      "text/plain": [
       "(torch.Size([1, 3, 24]), torch.Size([8, 1, 3, 5]))"
      ]
     },
     "execution_count": 14,
     "metadata": {},
     "output_type": "execute_result"
    }
   ],
   "source": [
    "multihead_attention = MultiHeadAttention(n_head, d_model, d_k, d_v)\n",
    "o, attn = multihead_attention(q, k, v, mask=mask)\n",
    "o.size(), attn.size()"
   ]
  },
  {
   "cell_type": "code",
   "execution_count": 15,
   "metadata": {},
   "outputs": [],
   "source": [
    "def draw_attentions(n_head, attn):\n",
    "    \"\"\"\n",
    "    to see `n_head` views of attentions\n",
    "    \"\"\"\n",
    "    fig, axes = plt.subplots(2, 4, dpi=100)\n",
    "    for k in range(n_head):\n",
    "        i = k % 2\n",
    "        j = k // 2\n",
    "        axes[i, j].matshow(attn[k].squeeze().numpy(), cmap=\"binary\")\n",
    "        axes[i, j].set_title(f\"head: {k}\", loc=\"center\", y=1.5)\n",
    "    plt.tight_layout()\n",
    "    plt.show()"
   ]
  },
  {
   "cell_type": "code",
   "execution_count": 16,
   "metadata": {},
   "outputs": [
    {
     "data": {
      "image/png": "[encoded data removed]",
      "text/plain": [
       "<Figure size 600x400 with 8 Axes>"
      ]
     },
     "metadata": {
      "needs_background": "light"
     },
     "output_type": "display_data"
    }
   ],
   "source": [
    "draw_attentions(n_head, attn)"
   ]
  },
  {
   "cell_type": "markdown",
   "metadata": {},
   "source": [
    "## 3.3 Position-wise Feed-Forward Networks\n",
    "\n",
    "$$FFN(x) = max(0, xW_1 + b_1)W_2 + b_2$$\n",
    "$$\\begin{aligned} W_1 &\\in \\Bbb{R}^{d_{model} \\times d_f} \\\\ \n",
    "b_1 &\\in \\Bbb{R}^{d_f} \\\\\n",
    "W_2 &\\in \\Bbb{R}^{d_f \\times d_{model}} \\\\ \n",
    "b_2 &\\in \\Bbb{R}^{d_{model}} \\\\\n",
    "\\end{aligned}$$\n",
    "\n",
    "same as $FFN = Linear(ReLU(Linear(x)) = Conv1d(ReLU(Conv1d(x)))$"
   ]
  },
  {
   "cell_type": "code",
   "execution_count": 17,
   "metadata": {},
   "outputs": [],
   "source": [
    "class PositionWiseFFN(nn.Module):\n",
    "    \"\"\"Position-wise Feed-Forward Networks\"\"\"\n",
    "    def __init__(self, d_model, d_f, drop_rate=0.1, use_conv=False):\n",
    "        super(PositionWiseFFN, self).__init__()\n",
    "        self.use_conv = use_conv\n",
    "        if use_conv:\n",
    "            self.fc = nn.Sequential(\n",
    "                nn.Conv1d(d_model, d_f, kernel_size=1),\n",
    "                nn.ReLU(),\n",
    "                nn.Conv1d(d_f, d_model, kernel_size=1)\n",
    "            )\n",
    "        else:\n",
    "            self.fc = nn.Sequential(\n",
    "                nn.Linear(d_model, d_f),\n",
    "                nn.ReLU(),\n",
    "                nn.Linear(d_f, d_model)\n",
    "            )\n",
    "        self.drop_out = nn.Dropout(drop_rate)\n",
    "    \n",
    "    def forward(self, x):\n",
    "        \"\"\"\n",
    "        Inputs:\n",
    "        x: (B, T, d_model)\n",
    "        -----------------------\n",
    "        Ouputs:\n",
    "        output: (B, T, d_model)\n",
    "        \"\"\"\n",
    "        if self.use_conv:\n",
    "            x = x.transpose(1, 2)  # (B, T, d_model) --> (B, d_model, T), reshape like (batch, channel, dim)\n",
    "            output = self.fc(x).transpose(1, 2)  # (B, d_model, T) --> (B, T, d_model)\n",
    "        else:\n",
    "            output = self.fc(x)\n",
    "            \n",
    "        output = self.drop_out(output)\n",
    "        return output"
   ]
  },
  {
   "cell_type": "code",
   "execution_count": 18,
   "metadata": {},
   "outputs": [
    {
     "data": {
      "text/plain": [
       "torch.Size([1, 3, 24])"
      ]
     },
     "execution_count": 18,
     "metadata": {},
     "output_type": "execute_result"
    }
   ],
   "source": [
    "d_f = d_model*4\n",
    "PWFFN = PositionWiseFFN(d_model, d_f, use_conv=False)\n",
    "PWFFN(q).size()"
   ]
  },
  {
   "cell_type": "code",
   "execution_count": 19,
   "metadata": {},
   "outputs": [
    {
     "data": {
      "text/plain": [
       "torch.Size([1, 3, 24])"
      ]
     },
     "execution_count": 19,
     "metadata": {},
     "output_type": "execute_result"
    }
   ],
   "source": [
    "PWFFN = PositionWiseFFN(d_model, d_f, use_conv=True)\n",
    "PWFFN(q).size()"
   ]
  },
  {
   "cell_type": "markdown",
   "metadata": {},
   "source": [
    "## 3.5 Positional Encoding & Embeddings"
   ]
  },
  {
   "cell_type": "markdown",
   "metadata": {},
   "source": [
    "$$\\begin{aligned} PE_{(pos, 2i)} &= sin(pos/10000^{2i / d_{model}}) \\\\\n",
    "PE_{(pos, 2i+1)} &= cos(pos/10000^{2i / d_{model}}) \\\\\n",
    "\\end{aligned}$$"
   ]
  },
  {
   "cell_type": "code",
   "execution_count": 20,
   "metadata": {},
   "outputs": [],
   "source": [
    "class PositionalEncoding(nn.Module):\n",
    "    \"\"\"Positional Encoding\"\"\"\n",
    "    def __init__(self, n_pos, d_model, pos_pad_idx=0):\n",
    "        \"\"\"\n",
    "        n_pos = position length, max sequence length + 1\n",
    "        \"\"\"\n",
    "        super(PositionalEncoding, self).__init__()\n",
    "        self.n_pos = n_pos\n",
    "        self.d_model = d_model\n",
    "        self.pe_table = np.array(self.get_pe_table())\n",
    "        self.pe_table[:, 0::2] = np.sin(self.pe_table[:, 0::2])\n",
    "        self.pe_table[:, 1::2] = np.cos(self.pe_table[:, 1::2])\n",
    "        self.pe_table[pos_pad_idx, :] = 0  # embed all pad to 0\n",
    "        self.pe = nn.Embedding.from_pretrained(torch.FloatTensor(self.pe_table), freeze=True)\n",
    "        \n",
    "    def cal_angle(self, pos, hid_idx):\n",
    "        return pos / (10000 ** ((2*(hid_idx // 2) / self.d_model)) )\n",
    "    \n",
    "    def get_pe_table(self):\n",
    "        return [[self.cal_angle(pos, i) for i in range(self.d_model)] for pos in range(self.n_pos)]         \n",
    "        \n",
    "    def forward(self, inputs):\n",
    "        return self.pe(inputs)"
   ]
  },
  {
   "cell_type": "code",
   "execution_count": 21,
   "metadata": {},
   "outputs": [],
   "source": [
    "class Embedding(nn.Module):\n",
    "    \"\"\"Custom Embedding Layer\"\"\"\n",
    "    def __init__(self, vocab_len, d_model, pad_idx=1):\n",
    "        super(Embedding, self).__init__()\n",
    "        self.d_model = d_model\n",
    "        self.embedding = nn.Embedding(vocab_len, d_model, padding_idx=pad_idx)\n",
    "        \n",
    "    def forward(self, x):\n",
    "        return self.embedding(x) * np.sqrt(self.d_model)"
   ]
  },
  {
   "cell_type": "code",
   "execution_count": 22,
   "metadata": {},
   "outputs": [],
   "source": [
    "n_pos = 3\n",
    "vocab_len = 10\n",
    "pos_layer = PositionalEncoding(n_pos+1, d_model, pos_pad_idx=0)  # n_pos + 1 for pad idx\n",
    "embed_layer = Embedding(vocab_len, d_model, pad_idx=0)"
   ]
  },
  {
   "cell_type": "code",
   "execution_count": 23,
   "metadata": {},
   "outputs": [
    {
     "data": {
      "text/plain": [
       "(torch.Size([4, 3, 24]), torch.Size([4, 3, 24]))"
      ]
     },
     "execution_count": 23,
     "metadata": {},
     "output_type": "execute_result"
    }
   ],
   "source": [
    "# x, po_x: input sentences, postions of input sentences  (4, 3)\n",
    "x = torch.LongTensor(np.array([[6, 5, 3], \n",
    "                               [2, 3, 1], \n",
    "                               [5, 3, 6], \n",
    "                               [3, 6, 2]]))\n",
    "po_x = torch.LongTensor(np.array([[1, 2, 3], \n",
    "                                  [1, 2, 0], \n",
    "                                  [1, 2, 3], \n",
    "                                  [1, 2, 3]]))\n",
    "embed_layer(x).size(), pos_layer(po_x).size()"
   ]
  },
  {
   "cell_type": "code",
   "execution_count": 24,
   "metadata": {},
   "outputs": [
    {
     "data": {
      "text/plain": [
       "torch.Size([4, 3, 24])"
      ]
     },
     "execution_count": 24,
     "metadata": {},
     "output_type": "execute_result"
    }
   ],
   "source": [
    "inputs = embed_layer(x) + pos_layer(po_x)\n",
    "inputs.size()"
   ]
  },
  {
   "cell_type": "code",
   "execution_count": 25,
   "metadata": {},
   "outputs": [
    {
     "data": {
      "text/plain": [
       "(torch.Size([4, 4, 24]), torch.Size([4, 4, 24]))"
      ]
     },
     "execution_count": 25,
     "metadata": {},
     "output_type": "execute_result"
    }
   ],
   "source": [
    "# target sentences\n",
    "target_n_pos = 4  # equal to max_seq_len\n",
    "t = torch.LongTensor(np.array([[3, 1, 1, 1], \n",
    "                               [5, 7, 9, 2], \n",
    "                               [3, 7, 1, 1], \n",
    "                               [2, 9, 4, 1]]))\n",
    "po_t = torch.LongTensor(np.array([[1, 0, 0, 0], \n",
    "                                  [1, 2, 3, 4], \n",
    "                                  [1, 2, 0, 0], \n",
    "                                  [1, 2, 3, 0]]))\n",
    "pos_layer = PositionalEncoding(target_n_pos+1, d_model)  # n_pos + 1 for pad idx\n",
    "embed_layer = Embedding(vocab_len, d_model)\n",
    "embed_layer(t).size(), pos_layer(po_t).size()"
   ]
  },
  {
   "cell_type": "code",
   "execution_count": 26,
   "metadata": {},
   "outputs": [
    {
     "data": {
      "text/plain": [
       "torch.Size([4, 4, 24])"
      ]
     },
     "execution_count": 26,
     "metadata": {},
     "output_type": "execute_result"
    }
   ],
   "source": [
    "target_inputs = embed_layer(t) + pos_layer(po_t)\n",
    "target_inputs.size()"
   ]
  },
  {
   "cell_type": "code",
   "execution_count": 27,
   "metadata": {},
   "outputs": [
    {
     "data": {
      "image/png": "[encoded data removed]",
      "text/plain": [
       "<Figure size 864x864 with 1 Axes>"
      ]
     },
     "metadata": {
      "needs_background": "light"
     },
     "output_type": "display_data"
    }
   ],
   "source": [
    "# visualize positional encoding\n",
    "temp_d_model = 512\n",
    "temp_n_pos = 50\n",
    "temp_pos_layer = PositionalEncoding(temp_n_pos+1, temp_d_model)\n",
    "\n",
    "fig, ax = plt.subplots(1, 1, figsize=(12, 12))\n",
    "ax.matshow(np.hstack([temp_pos_layer.pe_table[:, 0::2], temp_pos_layer.pe_table[:, 1::2]]))\n",
    "plt.show()"
   ]
  },
  {
   "cell_type": "code",
   "execution_count": 28,
   "metadata": {},
   "outputs": [],
   "source": [
    "def get_padding_mask(q, k=None, pad_idx=1, mode='attn'):\n",
    "    \"\"\"\n",
    "    mode: attn\n",
    "    > `pad_idx` is vocab pad_idx \n",
    "    > mask out for pad in attention with queries & keys sequences\n",
    "    > return shape: (B, T_q, T_k)\n",
    "    mode: nonpad\n",
    "    > `pad_idx` is vocab pad_idx \n",
    "    > mask out pad rows in attention\n",
    "    > return shape: (B, T_q, T_k)\n",
    "    mode: subseq\n",
    "    > mask out next tokens to preserve 'auto-regressive property'\n",
    "    > return shape: (B, T_q, T_q)\n",
    "    \"\"\"\n",
    "    B, q_len = q.size()\n",
    "    if mode == 'attn':\n",
    "        assert k is not None, \"must have key sequences\"\n",
    "        padding_mask = k.eq(pad_idx)\n",
    "        padding_mask = padding_mask.unsqueeze(1).expand(B, q_len, -1)\n",
    "        return padding_mask\n",
    "    elif mode == 'nonpad':\n",
    "        # to mask out pad rows\n",
    "        assert k is None, \"don't need key sequences\"\n",
    "        return q.ne(pad_idx).type(torch.float).unsqueeze(-1)\n",
    "    elif mode =='subseq':\n",
    "        assert k is None, \"don't need key sequences\"\n",
    "        subseq_mask = torch.triu(torch.ones((q_len, q_len), device=q.device, dtype=torch.uint8), \n",
    "                                 diagonal=1)\n",
    "        subseq_mask = subseq_mask.unsqueeze(0).expand(B, -1, -1)\n",
    "        return subseq_mask"
   ]
  },
  {
   "cell_type": "code",
   "execution_count": 29,
   "metadata": {},
   "outputs": [],
   "source": [
    "attn_mask = get_padding_mask(q=t, k=t, pad_idx=1, mode='attn')\n",
    "subseq_mask = get_padding_mask(q=t, mode='subseq')\n",
    "self_attn_mask = (attn_mask + subseq_mask).gt(0)"
   ]
  },
  {
   "cell_type": "code",
   "execution_count": 30,
   "metadata": {},
   "outputs": [
    {
     "data": {
      "image/png": "[encoded data removed]",
      "text/plain": [
       "<Figure size 288x288 with 1 Axes>"
      ]
     },
     "metadata": {
      "needs_background": "light"
     },
     "output_type": "display_data"
    }
   ],
   "source": [
    "plt.matshow(t.numpy(), cmap=\"binary\")\n",
    "plt.show()"
   ]
  },
  {
   "cell_type": "code",
   "execution_count": 31,
   "metadata": {},
   "outputs": [
    {
     "data": {
      "text/plain": [
       "tensor([[[0, 1, 1, 1],\n",
       "         [0, 1, 1, 1],\n",
       "         [0, 1, 1, 1],\n",
       "         [0, 1, 1, 1]],\n",
       "\n",
       "        [[0, 1, 1, 1],\n",
       "         [0, 0, 1, 1],\n",
       "         [0, 0, 0, 1],\n",
       "         [0, 0, 0, 0]],\n",
       "\n",
       "        [[0, 1, 1, 1],\n",
       "         [0, 0, 1, 1],\n",
       "         [0, 0, 1, 1],\n",
       "         [0, 0, 1, 1]],\n",
       "\n",
       "        [[0, 1, 1, 1],\n",
       "         [0, 0, 1, 1],\n",
       "         [0, 0, 0, 1],\n",
       "         [0, 0, 0, 1]]], dtype=torch.uint8)"
      ]
     },
     "execution_count": 31,
     "metadata": {},
     "output_type": "execute_result"
    }
   ],
   "source": [
    "self_attn_mask"
   ]
  },
  {
   "cell_type": "code",
   "execution_count": 32,
   "metadata": {},
   "outputs": [
    {
     "data": {
      "text/plain": [
       "tensor([[[1.],\n",
       "         [0.],\n",
       "         [0.],\n",
       "         [0.]],\n",
       "\n",
       "        [[1.],\n",
       "         [1.],\n",
       "         [1.],\n",
       "         [1.]],\n",
       "\n",
       "        [[1.],\n",
       "         [1.],\n",
       "         [0.],\n",
       "         [0.]],\n",
       "\n",
       "        [[1.],\n",
       "         [1.],\n",
       "         [1.],\n",
       "         [0.]]])"
      ]
     },
     "execution_count": 32,
     "metadata": {},
     "output_type": "execute_result"
    }
   ],
   "source": [
    "non_pad_mask = get_padding_mask(q=t, pad_idx=1, mode='nonpad')\n",
    "non_pad_mask"
   ]
  },
  {
   "cell_type": "code",
   "execution_count": 33,
   "metadata": {},
   "outputs": [
    {
     "data": {
      "text/plain": [
       "torch.Size([4, 4, 24])"
      ]
     },
     "execution_count": 33,
     "metadata": {},
     "output_type": "execute_result"
    }
   ],
   "source": [
    "target_inputs.size()"
   ]
  },
  {
   "cell_type": "code",
   "execution_count": 34,
   "metadata": {},
   "outputs": [
    {
     "data": {
      "text/plain": [
       "torch.Size([4, 4, 24])"
      ]
     },
     "execution_count": 34,
     "metadata": {},
     "output_type": "execute_result"
    }
   ],
   "source": [
    "# encoder self attention\n",
    "multiheadattention = MultiHeadAttention(n_head, d_model, d_k, d_v)\n",
    "o, attn = multiheadattention(q=target_inputs, k=target_inputs, v=target_inputs, mask=attn_mask)\n",
    "o *= non_pad_mask\n",
    "o.size()"
   ]
  },
  {
   "cell_type": "code",
   "execution_count": 35,
   "metadata": {},
   "outputs": [
    {
     "data": {
      "text/plain": [
       "<matplotlib.image.AxesImage at 0x7fb77dec3278>"
      ]
     },
     "execution_count": 35,
     "metadata": {},
     "output_type": "execute_result"
    },
    {
     "data": {
      "image/png": "[encoded data removed]",
      "text/plain": [
       "<Figure size 1152x192 with 1 Axes>"
      ]
     },
     "metadata": {
      "needs_background": "light"
     },
     "output_type": "display_data"
    }
   ],
   "source": [
    "plt.matshow(o[2].detach().numpy(), cmap=\"binary\")"
   ]
  },
  {
   "cell_type": "markdown",
   "metadata": {},
   "source": [
    "## Layers"
   ]
  },
  {
   "cell_type": "code",
   "execution_count": 36,
   "metadata": {},
   "outputs": [],
   "source": [
    "# Encode Layer\n",
    "class Encode_Layer(nn.Module):\n",
    "    \"\"\"encode layer\"\"\"\n",
    "    def __init__(self, n_head, d_model, d_k, d_v, d_f, drop_rate=0.1, use_conv=False, return_attn=True):\n",
    "        super(Encode_Layer, self).__init__()\n",
    "        self.return_attn = return_attn\n",
    "        self.n_head = n_head\n",
    "        self.selfattn = MultiHeadAttention(n_head, d_model, d_k, d_v, drop_rate=drop_rate, return_attn=return_attn)\n",
    "        self.pwffn = PositionWiseFFN(d_model, d_f, drop_rate=drop_rate, use_conv=use_conv)\n",
    "        self.norm_selfattn = nn.LayerNorm(d_model)\n",
    "        self.norm_pwffn = nn.LayerNorm(d_model)\n",
    "        \n",
    "    def forward(self, enc_input, enc_mask=None, non_pad_mask=None):\n",
    "        \"\"\"\n",
    "        Inputs:\n",
    "        * enc_input: (B, T_e, d_model)\n",
    "        * enc_mask: (B, T_e, T_e)\n",
    "        * non_pad_mask: (B, T_e, 1)\n",
    "        -------------------------------------\n",
    "        Outputs:\n",
    "        * enc_output: (B, T_e, d_model)\n",
    "        * enc_attn: (n_head, B, T_e, T_e)\n",
    "        \"\"\"\n",
    "        # Layer: Multi-Head Attention + Add & Norm\n",
    "        # encode self-attention\n",
    "        if self.return_attn:\n",
    "            enc_output, enc_attn = self.selfattn(enc_input, enc_input, enc_input, mask=enc_mask)\n",
    "        else:\n",
    "            enc_output = self.selfattn(enc_input, enc_input, enc_input, mask=enc_mask)\n",
    "        enc_output = self.norm_selfattn(enc_input + enc_output)\n",
    "        enc_output *= non_pad_mask\n",
    "        \n",
    "        # Layer: PositionWiseFFN + Add & Norm\n",
    "        pw_output = self.pwffn(enc_output)\n",
    "        pw_output *= non_pad_mask\n",
    "        enc_output = self.norm_pwffn(enc_output + pw_output)\n",
    "        if self.return_attn:\n",
    "            # attns: (n_heads, B, T_e, T_e)\n",
    "            enc_attn = torch.stack([attn*non_pad_mask for attn in enc_attn], dim=0)\n",
    "            return enc_output, enc_attn\n",
    "        return enc_output"
   ]
  },
  {
   "cell_type": "code",
   "execution_count": 37,
   "metadata": {},
   "outputs": [],
   "source": [
    "# Decode Layer\n",
    "class Decode_Layer(nn.Module):\n",
    "    \"\"\"decode layer\"\"\"\n",
    "    def __init__(self, n_head, d_model, d_k, d_v, d_f, drop_rate=0.1, use_conv=False, return_attn=True):\n",
    "        super(Decode_Layer, self).__init__()\n",
    "        self.return_attn = return_attn\n",
    "        self.n_head = n_head\n",
    "        self.selfattn_masked = MultiHeadAttention(n_head, d_model, d_k, d_v, drop_rate=drop_rate, \n",
    "                                                  return_attn=return_attn)\n",
    "        self.dec_enc_attn = MultiHeadAttention(n_head, d_model, d_k, d_v, drop_rate=drop_rate, \n",
    "                                               return_attn=return_attn)\n",
    "        self.pwffn = PositionWiseFFN(d_model, d_f, drop_rate=drop_rate, use_conv=use_conv)\n",
    "        self.norm_selfattn_masked = nn.LayerNorm(d_model)\n",
    "        self.norm_dec_enc_attn = nn.LayerNorm(d_model)\n",
    "        self.norm_pwffn = nn.LayerNorm(d_model)\n",
    "    \n",
    "    def forward(self, dec_input, enc_output, dec_self_mask=None, \n",
    "                dec_enc_mask=None, non_pad_mask=None):\n",
    "        \"\"\"\n",
    "        Inputs:\n",
    "        * dec_input: (B, T_d, d_model)\n",
    "        * enc_input: (B, T_e, d_model)\n",
    "        * dec_self_mask: (B, T_d, T_d)\n",
    "        * dec_enc_mask: (B, T_d, T_e)\n",
    "        * non_pad_mask: (B, T_d, 1)\n",
    "        -------------------------------------\n",
    "        Outputs:\n",
    "        * dec_output: (B, T_d, d_model)\n",
    "        * dec_self_attn: (n_head, B, T_d, T_d)\n",
    "        * dec_enc_attn: (n_head, B, T_d, T_e)\n",
    "        \"\"\"\n",
    "        # Layer: Multi-Head Attention + Add & Norm\n",
    "        # decode self-attention\n",
    "        if self.return_attn:\n",
    "            dec_self_output, dec_self_attn = self.selfattn_masked(dec_input, dec_input, dec_input, \n",
    "                                                                  mask=dec_self_mask)\n",
    "        else:\n",
    "            dec_self_output = self.selfattn_masked(dec_input, dec_input, dec_input, \n",
    "                                                   mask=dec_self_mask)\n",
    "        dec_self_output *= non_pad_mask\n",
    "        dec_self_output = self.norm_selfattn_masked(dec_input + dec_self_output)\n",
    "        \n",
    "        \n",
    "        # Layer: Multi-Head Attention + Add & Norm\n",
    "        # decode output(queries) + encode output(keys, values)\n",
    "        if self.return_attn:\n",
    "            dec_output, dec_enc_attn = self.dec_enc_attn(dec_self_output, enc_output, enc_output, \n",
    "                                                         mask=dec_enc_mask)\n",
    "        else:\n",
    "             dec_output = self.dec_enc_attn(dec_self_output, enc_output, enc_output, mask=dec_enc_mask)\n",
    "        dec_output *= non_pad_mask\n",
    "        dec_output = self.norm_dec_enc_attn(dec_self_output + dec_output)\n",
    "        \n",
    "        \n",
    "        # Layer: PositionWiseFFN + Add & Norm\n",
    "        pw_output = self.pwffn(dec_output)\n",
    "        pw_output *= non_pad_mask\n",
    "        dec_output = self.norm_pwffn(dec_output + pw_output)\n",
    "        \n",
    "        if self.return_attn: \n",
    "            dec_self_attn = torch.stack([attn*non_pad_mask for attn in dec_self_attn], dim=0)\n",
    "            dec_enc_attn = torch.stack([attn*non_pad_mask for attn in dec_enc_attn], dim=0)\n",
    "            return dec_output, dec_self_attn, dec_enc_attn\n",
    "        return dec_output"
   ]
  },
  {
   "cell_type": "code",
   "execution_count": 38,
   "metadata": {},
   "outputs": [
    {
     "name": "stdout",
     "output_type": "stream",
     "text": [
      "torch.Size([4, 3, 3]) torch.Size([4, 3, 1])\n",
      "torch.Size([4, 3, 24]) torch.Size([8, 4, 3, 3])\n"
     ]
    }
   ],
   "source": [
    "enc_layer = Encode_Layer(n_head, d_model, d_k, d_v, d_f)\n",
    "dec_layer = Decode_Layer(n_head, d_model, d_k, d_v, d_f)\n",
    "\n",
    "enc_mask = get_padding_mask(x, x, pad_idx=1, mode='attn')\n",
    "non_pad_mask = get_padding_mask(x, pad_idx=1, mode='nonpad')\n",
    "enc_output, enc_attn = enc_layer.forward(inputs, enc_mask=enc_mask, non_pad_mask=non_pad_mask)\n",
    "\n",
    "print(enc_mask.size(), non_pad_mask.size())\n",
    "print(enc_output.size(), enc_attn.size())"
   ]
  },
  {
   "cell_type": "code",
   "execution_count": 39,
   "metadata": {},
   "outputs": [
    {
     "name": "stdout",
     "output_type": "stream",
     "text": [
      "torch.Size([4, 4, 4]) torch.Size([4, 4, 3]) torch.Size([4, 4, 1])\n",
      "torch.Size([4, 3, 24]) torch.Size([8, 4, 4, 4]) torch.Size([8, 4, 4, 3])\n"
     ]
    }
   ],
   "source": [
    "dec_mask = (get_padding_mask(t, t, pad_idx=1, mode='attn') + \\\n",
    "    get_padding_mask(t, pad_idx=1, mode='subseq')).gt(0)\n",
    "dec_enc_mask = get_padding_mask(t, x, pad_idx=1, mode='attn')\n",
    "non_pad_mask = get_padding_mask(t, pad_idx=1, mode='nonpad')\n",
    "\n",
    "dec_output, dec_self_attn, dec_enc_attn = dec_layer.forward(target_inputs, \n",
    "                                                            enc_output, \n",
    "                                                            dec_self_mask=dec_mask, \n",
    "                                                            dec_enc_mask=dec_enc_mask,\n",
    "                                                            non_pad_mask=non_pad_mask)\n",
    "\n",
    "print(dec_mask.size(), dec_enc_mask.size(), non_pad_mask.size())\n",
    "print(enc_output.size(), dec_self_attn.size(), dec_enc_attn.size())"
   ]
  },
  {
   "cell_type": "code",
   "execution_count": 40,
   "metadata": {},
   "outputs": [
    {
     "data": {
      "text/plain": [
       "tensor([[6, 5, 3],\n",
       "        [2, 3, 1],\n",
       "        [5, 3, 6],\n",
       "        [3, 6, 2]])"
      ]
     },
     "execution_count": 40,
     "metadata": {},
     "output_type": "execute_result"
    }
   ],
   "source": [
    "x"
   ]
  },
  {
   "cell_type": "code",
   "execution_count": 41,
   "metadata": {},
   "outputs": [
    {
     "data": {
      "image/png": "[encoded data removed]",
      "text/plain": [
       "<Figure size 600x400 with 8 Axes>"
      ]
     },
     "metadata": {
      "needs_background": "light"
     },
     "output_type": "display_data"
    }
   ],
   "source": [
    "# there is only 2 sequence in 2nd sentence of x\n",
    "enc_output.size(), enc_attn.size()\n",
    "draw_attentions(n_head, enc_attn[:, 1, :, :])"
   ]
  },
  {
   "cell_type": "code",
   "execution_count": 42,
   "metadata": {
    "scrolled": true
   },
   "outputs": [
    {
     "data": {
      "text/plain": [
       "tensor([[3, 1, 1, 1],\n",
       "        [5, 7, 9, 2],\n",
       "        [3, 7, 1, 1],\n",
       "        [2, 9, 4, 1]])"
      ]
     },
     "execution_count": 42,
     "metadata": {},
     "output_type": "execute_result"
    }
   ],
   "source": [
    "t"
   ]
  },
  {
   "cell_type": "code",
   "execution_count": 63,
   "metadata": {},
   "outputs": [
    {
     "name": "stdout",
     "output_type": "stream",
     "text": [
      "torch.Size([4, 4, 24]) torch.Size([8, 4, 4, 4]) torch.Size([8, 4, 4, 3])\n"
     ]
    },
    {
     "data": {
      "image/png": "[encoded data removed]",
      "text/plain": [
       "<Figure size 600x400 with 8 Axes>"
      ]
     },
     "metadata": {
      "needs_background": "light"
     },
     "output_type": "display_data"
    },
    {
     "data": {
      "image/png": "[encoded data removed]",
      "text/plain": [
       "<Figure size 600x400 with 8 Axes>"
      ]
     },
     "metadata": {
      "needs_background": "light"
     },
     "output_type": "display_data"
    }
   ],
   "source": [
    "print(dec_output.size(), dec_self_attn.size(), dec_enc_attn.size())\n",
    "# decoder self attentions\n",
    "draw_attentions(n_head, dec_self_attn[:, 1, :, :])\n",
    "# decoder-encoder self attentions\n",
    "draw_attentions(n_head, dec_enc_attn[:, 1, :, :])"
   ]
  },
  {
   "cell_type": "markdown",
   "metadata": {},
   "source": [
    "## Models: Encoder & Decoder - Transformer"
   ]
  },
  {
   "cell_type": "code",
   "execution_count": 44,
   "metadata": {},
   "outputs": [],
   "source": [
    "class Encoder(nn.Module):\n",
    "    def __init__(self, vocab_len, max_seq_len, n_layer, n_head, d_model, d_k, d_v, d_f, \n",
    "                 drop_rate=0.1, use_conv=False, return_attn=True, pad_idx=1, pos_pad_idx=0):\n",
    "        super(Encoder, self).__init__()\n",
    "        self.pad_idx = pad_idx\n",
    "        self.return_attn = return_attn\n",
    "        self.drop_out = nn.Dropout(drop_rate)\n",
    "        self.embed_layer = Embedding(vocab_len, d_model, pad_idx=pad_idx)\n",
    "        self.pos_layer = PositionalEncoding(max_seq_len+1, d_model, pos_pad_idx=pos_pad_idx)\n",
    "        self.layers = nn.ModuleList([Encode_Layer(n_head, d_model, d_k, d_v, d_f, \n",
    "                                                  drop_rate=drop_rate, \n",
    "                                                  use_conv=use_conv,\n",
    "                                                  return_attn=return_attn) \\\n",
    "                                     for i in range(n_layer)])\n",
    "        \n",
    "    def forward(self, enc, enc_pos):\n",
    "        \"\"\"\n",
    "        Inputs:\n",
    "        * enc: (B, T_e)\n",
    "        * enc_pos: (B, T_e)\n",
    "        -------------------------------------\n",
    "        Outputs:\n",
    "        * enc_output: (B, T_e, d_model)\n",
    "        * self_attns: n_layer * (n_head, B, T_e, T_e)\n",
    "        \"\"\"\n",
    "        self_attns = []  # n_layer * (n_head, B, T, T)\n",
    "        # self attention padding mask: (B, T, T)\n",
    "        attn_mask = get_padding_mask(q=enc, k=enc, pad_idx=self.pad_idx, mode='attn')\n",
    "        # non_padding mask: (B, T, 1)\n",
    "        non_pad_mask = get_padding_mask(q=enc, pad_idx=self.pad_idx, mode='nonpad')\n",
    "        \n",
    "        # embedding + position encoding: (B, T) --> (B, T, d_model)\n",
    "        enc_output = self.embed_layer(enc) + self.pos_layer(enc_pos)\n",
    "        enc_output = self.drop_out(enc_output)\n",
    "        \n",
    "        # forward encode layer\n",
    "        for enc_layer in self.layers:\n",
    "            if self.return_attn:\n",
    "                enc_output, enc_self_attn = enc_layer(enc_input=enc_output, \n",
    "                                                      enc_mask=attn_mask, \n",
    "                                                      non_pad_mask=non_pad_mask)\n",
    "                self_attns.append(enc_self_attn)\n",
    "            else:\n",
    "                enc_output = enc_layer(enc_input=enc_output, \n",
    "                                       enc_mask=attn_mask, \n",
    "                                       non_pad_mask=non_pad_mask)\n",
    "        \n",
    "        if self.return_attn:\n",
    "            return enc_output, self_attns\n",
    "        return enc_output"
   ]
  },
  {
   "cell_type": "code",
   "execution_count": 45,
   "metadata": {},
   "outputs": [],
   "source": [
    "class Decoder(nn.Module):\n",
    "    def __init__(self, vocab_len, max_seq_len, n_layer, n_head, d_model, d_k, d_v, d_f, \n",
    "                 drop_rate=0.1, use_conv=False, return_attn=True, pad_idx=1, pos_pad_idx=0):\n",
    "        super(Decoder, self).__init__()\n",
    "        self.pad_idx = pad_idx\n",
    "        self.return_attn = return_attn\n",
    "        self.dropout = nn.Dropout(drop_rate)\n",
    "        self.embed_layer = Embedding(vocab_len, d_model, pad_idx=pad_idx)\n",
    "        self.pos_layer = PositionalEncoding(max_seq_len+1, d_model, pos_pad_idx=pos_pad_idx)\n",
    "        self.layers = nn.ModuleList([Decode_Layer(n_head, d_model, d_k, d_v, d_f, \n",
    "                                                  drop_rate=drop_rate, \n",
    "                                                  use_conv=use_conv,\n",
    "                                                  return_attn=return_attn) \\\n",
    "                                     for i in range(n_layer)])\n",
    "        \n",
    "    def forward(self, dec, dec_pos, enc, enc_output):\n",
    "        \"\"\"\n",
    "        Inputs:\n",
    "        * dec: (B, T_d)\n",
    "        * dec_pos: (B, T_d)\n",
    "        * enc: (B, T_e)\n",
    "        * enc_output: (B, T_d, d_model)\n",
    "        -------------------------------------\n",
    "        Outputs:\n",
    "        * dec_output: (B, T_d, d_model)\n",
    "        * self_attns: n_layer *(n_head, B, T_d, T_d)\n",
    "        * dec_enc_attns: n_layer *(n_head, B, T_d, T_e)\n",
    "        \"\"\"\n",
    "        self_attns = []  # n_layer * (n_head, B, T_d, T_d)\n",
    "        dec_enc_attns = []  # n_layer * (n_head, B, T_d, T_e)\n",
    "        \n",
    "        \n",
    "        # non_padding mask: (B, T_d, 1)\n",
    "        non_pad_mask = get_padding_mask(q=dec, pad_idx=self.pad_idx, mode='nonpad')\n",
    "        # self attention padding mask: (B, T_d, T_d)\n",
    "        attn_mask = get_padding_mask(q=dec, k=dec, pad_idx=self.pad_idx, mode='attn')\n",
    "        subseq_mask = get_padding_mask(q=dec, mode='subseq')\n",
    "        self_attn_mask = (attn_mask + subseq_mask).gt(0)\n",
    "        # enc_dec attention padding mask: (B, T_d, T_e)\n",
    "        dec_enc_attn_mask = get_padding_mask(q=dec, k=enc, pad_idx=self.pad_idx, mode='attn')\n",
    "        \n",
    "        # embedding + position encoding: (B, T_d) --> (B, T_d, d_model)\n",
    "        dec_output = self.embed_layer(dec) + self.pos_layer(dec_pos)\n",
    "        dec_output = self.dropout(dec_output)\n",
    "        # forward decode layer\n",
    "        for dec_layer in self.layers:\n",
    "            if self.return_attn:\n",
    "                dec_output, dec_self_attn, dec_enc_attn = dec_layer(dec_input=dec_output, \n",
    "                                                                    enc_output=enc_output, \n",
    "                                                                    dec_self_mask=self_attn_mask, \n",
    "                                                                    dec_enc_mask=dec_enc_attn_mask,\n",
    "                                                                    non_pad_mask=non_pad_mask)\n",
    "                self_attns.append(dec_self_attn)\n",
    "                dec_enc_attns.append(dec_enc_attn)\n",
    "            else:\n",
    "                dec_output = dec_layer(dec_input=dec_output, \n",
    "                                       enc_output=enc_output, \n",
    "                                       dec_self_mask=self_attn_mask, \n",
    "                                       dec_enc_mask=dec_enc_attn_mask,\n",
    "                                       non_pad_mask=non_pad_mask)\n",
    "        \n",
    "        if self.return_attn:\n",
    "            return dec_output, self_attns, dec_enc_attns\n",
    "        return dec_output"
   ]
  },
  {
   "cell_type": "code",
   "execution_count": 46,
   "metadata": {},
   "outputs": [],
   "source": [
    "n_layer = 3\n",
    "encoder = Encoder(vocab_len, 3, n_layer, n_head, d_model, d_k, d_v, d_f)\n",
    "decoder = Decoder(vocab_len, 4, n_layer, n_head, d_model, d_k, d_v, d_f)"
   ]
  },
  {
   "cell_type": "code",
   "execution_count": 47,
   "metadata": {},
   "outputs": [],
   "source": [
    "enc_output, enc_self_attns = encoder(x, po_x)\n",
    "dec_output, dec_self_attns, dec_enc_attns = decoder.forward(t, po_t, x, enc_output)"
   ]
  },
  {
   "cell_type": "code",
   "execution_count": 48,
   "metadata": {},
   "outputs": [
    {
     "data": {
      "text/plain": [
       "(torch.Size([4, 3, 24]), torch.Size([4, 4, 24]))"
      ]
     },
     "execution_count": 48,
     "metadata": {},
     "output_type": "execute_result"
    }
   ],
   "source": [
    "enc_output.size(), dec_output.size()"
   ]
  },
  {
   "cell_type": "code",
   "execution_count": 56,
   "metadata": {},
   "outputs": [],
   "source": [
    "class Transformer(nn.Module):\n",
    "    \"\"\"Transformer Model\"\"\"\n",
    "    def __init__(self, enc_vocab_len, enc_max_seq_len, dec_vocab_len, dec_max_seq_len, \n",
    "                 n_layer, n_head, d_model, d_k, d_v, d_f, \n",
    "                 pad_idx=1, pos_pad_idx=0, drop_rate=0.1, use_conv=False, return_attn=True,\n",
    "                 linear_weight_share=True, embed_weight_share=True):\n",
    "        super(Transformer, self).__init__()\n",
    "        self.return_attn = return_attn\n",
    "        self.pad_idx = pad_idx\n",
    "        self.d_model = d_model\n",
    "        \n",
    "        self.encoder = Encoder(enc_vocab_len, enc_max_seq_len, n_layer, n_head, \n",
    "                               d_model, d_k, d_v, d_f, \n",
    "                               pad_idx=pad_idx, \n",
    "                               drop_rate=drop_rate, \n",
    "                               use_conv=use_conv, \n",
    "                               return_attn=return_attn)\n",
    "        self.decoder = Decoder(dec_vocab_len, dec_max_seq_len, n_layer, n_head, \n",
    "                               d_model, d_k, d_v, d_f,\n",
    "                               pad_idx=pad_idx, \n",
    "                               drop_rate=drop_rate, \n",
    "                               use_conv=use_conv, \n",
    "                               return_attn=return_attn)\n",
    "        self.projection = nn.Linear(d_model, dec_vocab_len, bias=False)\n",
    "        if linear_weight_share:\n",
    "            # share the same weight matrix between the decoder embedding layer \n",
    "            # and the pre-softmax linear transformation\n",
    "            self.projection.weight = self.decoder.embed_layer.embedding.weight\n",
    "        \n",
    "        if embed_weight_share:\n",
    "            # share the same weight matrix between the decoder embedding layer \n",
    "            # and the encoder embedding layer\n",
    "            assert enc_vocab_len == dec_vocab_len, \"vocab length must be same\"\n",
    "            self.encoder.embed_layer.embedding.weight = self.decoder.embed_layer.embedding.weight\n",
    "            \n",
    "    def forward(self, enc, enc_pos, dec, dec_pos):\n",
    "        \"\"\"\n",
    "        Inputs:\n",
    "        * enc: (B, T_e)\n",
    "        * enc_pos: (B, T_e)\n",
    "        * dec: (B, T_d)\n",
    "        * dec_pos: (B, T_d)\n",
    "        -------------------------------------\n",
    "        Outputs:\n",
    "        * dec_output: (B, T_d, d_model)\n",
    "        * attns_dict:\n",
    "            * enc_self_attns: n_layers * (n_head, B, T_e, T_e)\n",
    "            * dec_self_attns: n_layers * (n_head, B, T_d, T_d)\n",
    "            * dec_enc_attns: n_layers * (n_haed, B, T_d, T_e)\n",
    "        \"\"\"\n",
    "        if self.return_attn:\n",
    "            enc_output, enc_self_attns = self.encoder(enc, enc_pos)\n",
    "            dec_output, dec_self_attns, dec_enc_attns = self.decoder(dec, dec_pos, enc, enc_output)\n",
    "            dec_output = self.projection(dec_output)\n",
    "            attns_dict = {'enc_self_attns': enc_self_attns, \n",
    "                         'dec_self_attns': dec_self_attns,\n",
    "                         'dec_enc_attns': dec_enc_attns}\n",
    "            return dec_output, attns_dict\n",
    "        else:\n",
    "            enc_output = self.encoder(enc, enc_pos)\n",
    "            dec_output = self.decoder(dec, dec_pos, enc, enc_output)\n",
    "            dec_output = self.projection(dec_output)\n",
    "            return dec_output"
   ]
  },
  {
   "cell_type": "code",
   "execution_count": 57,
   "metadata": {},
   "outputs": [],
   "source": [
    "model = Transformer(vocab_len, 3, vocab_len, 4, n_layer, n_head, d_model, d_k, d_v, d_f, \n",
    "                 pad_idx=0, drop_rate=0.1, use_conv=False, return_attn=False,\n",
    "                 linear_weight_share=True, embed_weight_share=False)"
   ]
  },
  {
   "cell_type": "code",
   "execution_count": 58,
   "metadata": {},
   "outputs": [],
   "source": [
    "output = model(x, po_x, t, po_t)"
   ]
  },
  {
   "cell_type": "code",
   "execution_count": 59,
   "metadata": {
    "scrolled": true
   },
   "outputs": [
    {
     "data": {
      "text/plain": [
       "torch.Size([4, 4, 10])"
      ]
     },
     "execution_count": 59,
     "metadata": {},
     "output_type": "execute_result"
    }
   ],
   "source": [
    "output.size()"
   ]
  },
  {
   "cell_type": "code",
   "execution_count": 60,
   "metadata": {},
   "outputs": [
    {
     "data": {
      "text/plain": [
       "tensor([[ 0.0000,  1.6189,  0.0926, 15.6025,  3.3680, -0.3701,  5.2022,  0.1653,\n",
       "         -5.0093,  8.7931],\n",
       "        [ 0.0000, 18.0730, -3.1023, -0.3570, -4.6958,  9.6805, -0.7932, -0.8925,\n",
       "          3.8604,  3.0437],\n",
       "        [ 0.0000, 15.9617, -4.1849,  3.4641, -6.0308, 10.9258,  2.9282,  1.0882,\n",
       "          4.0876,  0.7155],\n",
       "        [ 0.0000, 16.2651, -2.5490, -1.0476, -8.1431,  9.3328,  2.2964,  0.7211,\n",
       "          3.7275,  2.6206]], grad_fn=<SelectBackward>)"
      ]
     },
     "execution_count": 60,
     "metadata": {},
     "output_type": "execute_result"
    }
   ],
   "source": [
    "output[0]"
   ]
  },
  {
   "cell_type": "markdown",
   "metadata": {},
   "source": [
    "---"
   ]
  },
  {
   "cell_type": "markdown",
   "metadata": {},
   "source": [
    "## Label Smoothing"
   ]
  },
  {
   "cell_type": "markdown",
   "metadata": {},
   "source": [
    "* Ref: https://arxiv.org/pdf/1512.00567.pdf\n",
    "\n",
    "For each training example x, our model computes the probability of each label $k \\in \\{1 \\cdots K\\}: p(k \\vert x) =\\text{softmax}(x) = \\dfrac{\\exp(z_k)}{\\sum_i^K \\exp(z_i)}$\n",
    ". Here, $z_i$ are the logits or unnormalized logprobabilities. Consider the ground-truth distribution over labels $q(k\\vert x)$ for this training example, normalized so that $\\sum_k q(k\\vert x) = 1$\n",
    "\n",
    "omit $x$\n",
    "\n",
    "\n",
    "cross-entropy: $l = - \\sum_{k=1}^{K} \\log(p(k))q(k)$\n",
    "\n",
    "The gradient has a rather simple form: $\\dfrac{\\partial l}{\\partial z_k} = p(k) - q(k)$ which is bounded\n",
    "between −1 and 1.\n",
    "\n",
    "Consider the case of a single ground-truth label $y$, so that $q(y) = 1$ and $q(k) = 0$ for all $k \\neq y$.  In this case, minimizing the cross entropy is equivalent to maximizing the log-likelihood of the correct label. For a particular example $x$ with label $y$, the log-likelihood is maximized for $q(k) = \\delta_{k,y}$, where $\\delta_{k,y}$ is Dirac delta, which equals 1 for $k = y$ and $0$ otherwise. This maximum is not achievable for finite $z_k$ but is approached if $zy \\gg zk$ for all $k \\neq y$ – that is, if the logit corresponding to the ground-truth label is much great than all other logits. \n",
    "\n",
    "This, however, can cause two problems. First, it may result in over-fitting: if the model learns to assign full probability to the groundtruth label for each training example, it is not guaranteed to\n",
    "generalize. Second, it encourages the differences between the largest logit and all others to become large, and this, combined with the bounded gradient $\\dfrac{\\partial l}{\\partial z_k} = p(k) - q(k)$, reduces the ability of the model to adapt. Intuitively, this happens because the model becomes too confident about its predictions.\n",
    "\n",
    "Only using cross-entropy loss cause two problems. First, it may result in over-fitting: if the model learns to assign full probability to the groundtruth label for each training example, it is not guaranteed to generalize. Second, it encourages the differences between the largest logit and all others to become large, and this, combined with the bounded gradient $\\frac{\\partial l}{\\partial z_{k}}$, reduces the ability of the model to adapt. Intuitively, this happens because the model becomes too confident about its predictions"
   ]
  },
  {
   "cell_type": "markdown",
   "metadata": {},
   "source": [
    "### proposed method: label-smoothing regularization\n",
    "\n",
    "* $u(k)$: a distribution over labels, independent of the training example $x$\n",
    "* $\\epsilon$: a smoothing parameter\n",
    "\n",
    "For a training example with ground-truth label $y$, replace the label distribution $q(k) = \\delta_{k, y}$ to\n",
    "\n",
    "$$q'(k \\vert x) = (1-\\epsilon)\\delta_{k, y}+\\epsilon u(k)$$\n",
    "\n",
    "This can be seen as the distribution of the label $k$ obtained as follows: first, set it to the groundtruth label $k = y$; then, with probability $\\epsilon$, replace $k$ with a sample drawn from the distribution $u(k)$. We propose to use the prior distribution over labels as $u(k)$. In our experiments, we used the uniform distribution $u(k) = 1/K$, so that\n",
    "\n",
    "$$q'(k \\vert x) = (1-\\epsilon)\\delta_{k, y}+ \\dfrac{\\epsilon}{K}$$"
   ]
  },
  {
   "cell_type": "markdown",
   "metadata": {},
   "source": [
    "Another interpretation: $q'$ is changed true probability.\n",
    "\n",
    "$$\\begin{aligned} H(q', p) &= -\\sum_{k=1}^K q'(k) \\log p(k)  \\\\\n",
    "&= -\\sum_{k=1}^K \\big( ((1-\\epsilon)q(x) + \\epsilon u(x)) \\log p(k) \\big) \\\\\n",
    "&= -\\sum_{k=1}^K (1-\\epsilon)q(x) \\log p(k) -\\sum_{k=1}^K \\epsilon u(x) \\log p(k) \\\\\n",
    "&= (1-\\epsilon) H(q, p) + \\epsilon H(u, p) \\end{aligned}$$\n",
    "\n",
    "this can be seen as $H(q', p) = H(q, p) + \\dfrac{\\epsilon}{(1-\\epsilon) } \\big( D_{KL}(u \\vert\\vert p) + H(u) \\big) $ and $H(u)$ is fixed. When $u$ is the uniform distribution, $H(u, p)$ is a measure of how dissimilar the predicted distribution $p$ is to uniform, which could also be measured (but not equivalently) by negative entropy $−H(p)$;\n",
    "\n",
    "* $H(u, p) = D_{KL}(u \\vert\\vert p) + H(u)$\n"
   ]
  },
  {
   "cell_type": "code",
   "execution_count": 77,
   "metadata": {},
   "outputs": [],
   "source": [
    "class LabelSmoothing(nn.Module):\n",
    "    \"\"\"Label Smoothing\"\"\"\n",
    "    def __init__(self, trg_vocab_size, pad_idx, eps=0.0):\n",
    "        \"\"\"\n",
    "        - eps: smoothing parameters, set it 0.0 to use crossentropy\n",
    "        \n",
    "        -------------------------------------------------\n",
    "        ref: https://arxiv.org/pdf/1512.00567.pdf\n",
    "        ref: http://nlp.seas.harvard.edu/2018/04/03/attention.html\n",
    "        #7\n",
    "        - k : predict class\n",
    "        - y : target class \n",
    "        In Cross Entropy H(q, p) = -\\sum q(k|x) log p(k|x)\n",
    "        replace ground truth distribution (q(k|x) = \\delta_{k, y}) to\n",
    "        q'(k|x) = (1 - eps) q(k|x) + eps * u(k)\n",
    "        where: q(k|x) = 1 if k == y else 0, u(k) = unifrom distribution to labels (ex. 1/K)\n",
    "        \n",
    "        Equal to H(q', p) = H(q, p) + eps/(1-eps) * D_KL(u || p) + H(u)\n",
    "        \"\"\"\n",
    "        super(LabelSmoothing, self).__init__()\n",
    "#         self.criterion = nn.KLDivLoss(reduction='sum')\n",
    "        self.criterion = nn.CrossEntropyLoss(ignore_index=pad_idx, reduction='sum')\n",
    "        self.pad_idx = pad_idx\n",
    "        self.eps = eps\n",
    "        self.trg_vocab_size = trg_vocab_size\n",
    "        \n",
    "    def forward(self, x, target):\n",
    "        \"\"\"\n",
    "        Inputs:\n",
    "        x: (B, T_d, V_target), predict scores\n",
    "        t: (B, T_d)\n",
    "        \"\"\"\n",
    "        assert x.size(1) == self.trg_vocab_size, \\\n",
    "            'vocab size is not equal x: {}, vocab: {}'.format(x.size(1), self.trg_vocab_size)\n",
    "        assert target.dim() == 2, 't must be size of (B, T_q)'\n",
    "        \n",
    "        # option to not use label smoothing\n",
    "        if self.eps == 0.0:\n",
    "            x = x.view(-1, x.size(-1))\n",
    "            return self.criterion(x, target.view(-1))\n",
    "        \n",
    "        # label smoothing\n",
    "        delta_ky = torch.zeros_like(x)\n",
    "        delta_ky = delta_ky.scatter(dim=1, index=target.view(-1, 1), source=1)\n",
    "        # exclude <s>, </s> token\n",
    "        self.smoothed_dist = (1 - self.eps) * true_dist + self.eps / (self.trg_vocab_size - 2)\n",
    "        \n",
    "        true_dist = torch.zeros_like(x)\n",
    "        true_dist = true_dist.scatter(1, target.view(-1, 1), 1.0)\n",
    "        true_dist = (1 - self.eps) * true_dist + self.eps / (self.trg_vocab_size -1)\n",
    "        log_prob = F.log_softmax(x, dim=1)\n",
    "        loss = -(true_dist * log_prob).sum(1)\n",
    "        non_pad_mask = target.view(-1).ne(self.pad_idx)\n",
    "        self.true_dist = true_dist\n",
    "        loss = loss.masked_select(non_pad_mask).sum()\n",
    "        return loss\n",
    "        \n",
    "#         true_dist = x.clone()\n",
    "#         # u(k) = 1 / K, exclude token <s>, <pad>\n",
    "#         true_dist.fill_(self.eps / (self.trg_vocab_size - 2))  \n",
    "#         # at target index, value is (1-eps) * 1\n",
    "#         true_dist.scatter_(1, target.view(-1, 1), self.confidence)\n",
    "#         true_dist[:, self.pad_idx] = 0  # exclude token <s>\n",
    "#         mask = torch.nonzero(target.view(-1) == self.pad_idx)\n",
    "#         if mask.dim() > 0:\n",
    "#             true_dist.index_fill_(0, mask.squeeze(), 0.0)\n",
    "#         self.true_dist = true_dist\n",
    "#         return self.criterion(x.log_softmax(1), true_dist.detach())"
   ]
  },
  {
   "cell_type": "code",
   "execution_count": 78,
   "metadata": {},
   "outputs": [],
   "source": [
    "lbs = LabelSmoothing(10, 0, eps=0.1)"
   ]
  },
  {
   "cell_type": "code",
   "execution_count": 79,
   "metadata": {},
   "outputs": [
    {
     "data": {
      "text/plain": [
       "tensor(65.3785, grad_fn=<SumBackward0>)"
      ]
     },
     "execution_count": 79,
     "metadata": {},
     "output_type": "execute_result"
    }
   ],
   "source": [
    "lbs(output, t)"
   ]
  },
  {
   "cell_type": "code",
   "execution_count": 52,
   "metadata": {},
   "outputs": [],
   "source": [
    "# one_hot = torch.zeros_like(pred).scatter(1, gold.view(-1, 1), 1)\n",
    "# one_hot = one_hot * (1 - eps) + (1 - one_hot) * eps / (n_class - 1)\n",
    "# log_prb = F.log_softmax(pred, dim=1)\n",
    "\n",
    "# non_pad_mask = gold.ne(Constants.PAD)\n",
    "# loss = -(one_hot * log_prb).sum(dim=1)\n",
    "# loss = loss.masked_select(non_pad_mask).sum()  # average later"
   ]
  },
  {
   "cell_type": "code",
   "execution_count": 68,
   "metadata": {},
   "outputs": [
    {
     "data": {
      "text/plain": [
       "torch.Size([16, 10])"
      ]
     },
     "execution_count": 68,
     "metadata": {},
     "output_type": "execute_result"
    }
   ],
   "source": [
    "# B*T_d, vocab_size\n",
    "pred = output.view(-1, output.size(-1))\n",
    "pred.size()"
   ]
  },
  {
   "cell_type": "code",
   "execution_count": 86,
   "metadata": {},
   "outputs": [
    {
     "data": {
      "text/plain": [
       "tensor([[[0., 0., 0., 0., 0., 0., 0., 0., 0., 0.],\n",
       "         [0., 0., 0., 0., 0., 0., 0., 0., 0., 0.],\n",
       "         [0., 0., 0., 0., 0., 0., 0., 0., 0., 0.],\n",
       "         [0., 0., 0., 0., 0., 0., 0., 0., 0., 0.]],\n",
       "\n",
       "        [[0., 0., 0., 0., 0., 0., 0., 0., 0., 0.],\n",
       "         [0., 0., 0., 0., 0., 0., 0., 0., 0., 0.],\n",
       "         [0., 0., 0., 0., 0., 0., 0., 0., 0., 0.],\n",
       "         [0., 0., 0., 0., 0., 0., 0., 0., 0., 0.]],\n",
       "\n",
       "        [[0., 0., 0., 0., 0., 0., 0., 0., 0., 0.],\n",
       "         [0., 0., 0., 0., 0., 0., 0., 0., 0., 0.],\n",
       "         [0., 0., 0., 0., 0., 0., 0., 0., 0., 0.],\n",
       "         [0., 0., 0., 0., 0., 0., 0., 0., 0., 0.]],\n",
       "\n",
       "        [[0., 0., 0., 0., 0., 0., 0., 0., 0., 0.],\n",
       "         [0., 0., 0., 0., 0., 0., 0., 0., 0., 0.],\n",
       "         [0., 0., 0., 0., 0., 0., 0., 0., 0., 0.],\n",
       "         [0., 0., 0., 0., 0., 0., 0., 0., 0., 0.]]])"
      ]
     },
     "execution_count": 86,
     "metadata": {},
     "output_type": "execute_result"
    }
   ],
   "source": [
    "true_dist"
   ]
  },
  {
   "cell_type": "code",
   "execution_count": 91,
   "metadata": {},
   "outputs": [],
   "source": [
    "eps = 0.01\n",
    "true_dist = torch.zeros_like(output)\n",
    "delta_ky = true_dist.scatter(dim=2, index=t.unsqueeze(-1), source=1)"
   ]
  },
  {
   "cell_type": "code",
   "execution_count": 92,
   "metadata": {},
   "outputs": [
    {
     "data": {
      "text/plain": [
       "tensor([[[0., 0., 0., 1., 0., 0., 0., 0., 0., 0.],\n",
       "         [0., 1., 0., 0., 0., 0., 0., 0., 0., 0.],\n",
       "         [0., 1., 0., 0., 0., 0., 0., 0., 0., 0.],\n",
       "         [0., 1., 0., 0., 0., 0., 0., 0., 0., 0.]],\n",
       "\n",
       "        [[0., 0., 0., 0., 0., 1., 0., 0., 0., 0.],\n",
       "         [0., 0., 0., 0., 0., 0., 0., 1., 0., 0.],\n",
       "         [0., 0., 0., 0., 0., 0., 0., 0., 0., 1.],\n",
       "         [0., 0., 1., 0., 0., 0., 0., 0., 0., 0.]],\n",
       "\n",
       "        [[0., 0., 0., 1., 0., 0., 0., 0., 0., 0.],\n",
       "         [0., 0., 0., 0., 0., 0., 0., 1., 0., 0.],\n",
       "         [0., 1., 0., 0., 0., 0., 0., 0., 0., 0.],\n",
       "         [0., 1., 0., 0., 0., 0., 0., 0., 0., 0.]],\n",
       "\n",
       "        [[0., 0., 1., 0., 0., 0., 0., 0., 0., 0.],\n",
       "         [0., 0., 0., 0., 0., 0., 0., 0., 0., 1.],\n",
       "         [0., 0., 0., 0., 1., 0., 0., 0., 0., 0.],\n",
       "         [0., 1., 0., 0., 0., 0., 0., 0., 0., 0.]]])"
      ]
     },
     "execution_count": 92,
     "metadata": {},
     "output_type": "execute_result"
    }
   ],
   "source": [
    "delta_ky # B, T_d, vocab_size"
   ]
  },
  {
   "cell_type": "code",
   "execution_count": 84,
   "metadata": {},
   "outputs": [],
   "source": [
    "# B*T_d, vocab_size: one-hot\n",
    "smoothed_dist = (1-eps) * delta_ky + eps / vocab_len"
   ]
  },
  {
   "cell_type": "code",
   "execution_count": null,
   "metadata": {},
   "outputs": [],
   "source": [
    "true_dist = torch.zeros_like(x)\n",
    "true_dist = true_dist.scatter(1, target.view(-1, 1), 1.0)\n",
    "true_dist = (1 - self.eps) * true_dist + self.eps / (self.trg_vocab_size -1)\n",
    "log_prob = F.log_softmax(x, dim=1)"
   ]
  }
 ],
 "metadata": {
  "kernelspec": {
   "display_name": "Python(venv)",
   "language": "python",
   "name": "venv"
  },
  "language_info": {
   "codemirror_mode": {
    "name": "ipython",
    "version": 3
   },
   "file_extension": ".py",
   "mimetype": "text/x-python",
   "name": "python",
   "nbconvert_exporter": "python",
   "pygments_lexer": "ipython3",
   "version": "3.6.8"
  }
 },
 "nbformat": 4,
 "nbformat_minor": 2
}
