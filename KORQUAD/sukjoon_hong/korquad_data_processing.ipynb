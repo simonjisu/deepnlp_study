{
  "nbformat": 4,
  "nbformat_minor": 0,
  "metadata": {
    "colab": {
      "name": "korquad_data_processing.ipynb",
      "version": "0.3.2",
      "provenance": [],
      "collapsed_sections": []
    },
    "kernelspec": {
      "name": "python3",
      "display_name": "Python 3"
    },
    "accelerator": "GPU"
  },
  "cells": [
    {
      "metadata": {
        "id": "JCeQ6ytov3KL",
        "colab_type": "code",
        "colab": {}
      },
      "cell_type": "code",
      "source": [
        "# Reference: https://github.com/google-research/bert/\n",
        "# special processing is needed to the datas without questions and answers\n",
        "\n",
        "from google.colab import drive \n",
        "import json\n",
        "import tensorflow as tf"
      ],
      "execution_count": 0,
      "outputs": []
    },
    {
      "metadata": {
        "id": "oWsoUWu6wGBp",
        "colab_type": "code",
        "outputId": "617992fa-f4da-4d52-f0cd-02bf02372694",
        "colab": {
          "base_uri": "https://localhost:8080/",
          "height": 35
        }
      },
      "cell_type": "code",
      "source": [
        "drive.mount('/gdrive')"
      ],
      "execution_count": 0,
      "outputs": [
        {
          "output_type": "stream",
          "text": [
            "Drive already mounted at /gdrive; to attempt to forcibly remount, call drive.mount(\"/gdrive\", force_remount=True).\n"
          ],
          "name": "stdout"
        }
      ]
    },
    {
      "metadata": {
        "id": "JfPSmbl1wjVP",
        "colab_type": "code",
        "colab": {}
      },
      "cell_type": "code",
      "source": [
        "# KorQuAD data load\n",
        "file_path = '/gdrive/My Drive/Colab Notebooks/korquad/KorQuAD_v1.0_train.json' \n",
        "\n",
        "with open(file_path) as data_file:    \n",
        "    data = json.load(data_file)"
      ],
      "execution_count": 0,
      "outputs": []
    },
    {
      "metadata": {
        "id": "GUgGQatX5Ozq",
        "colab_type": "code",
        "colab": {}
      },
      "cell_type": "code",
      "source": [
        "# A single training/test example \n",
        "class SquadExample(object):\n",
        "\n",
        "  def __init__(self,\n",
        "               qas_id,\n",
        "               question_text,\n",
        "               context_tokens,\n",
        "               answer_text=None,\n",
        "               start_position=None,\n",
        "               end_position=None):\n",
        "    \n",
        "    self.qas_id = qas_id\n",
        "    self.question_text = question_text\n",
        "    self.context_tokens = context_tokens\n",
        "    self.answer_text = answer_text\n",
        "    self.start_position = start_position\n",
        "    self.end_position = end_position\n"
      ],
      "execution_count": 0,
      "outputs": []
    },
    {
      "metadata": {
        "id": "ak82p4LY4bNY",
        "colab_type": "code",
        "colab": {}
      },
      "cell_type": "code",
      "source": [
        "# Read a KorQuAD json file into a list of SquadExample.\n",
        "def read_squad_examples(input_data):\n",
        "  def is_whitespace(c):\n",
        "    if c == \" \" or c == \"\\t\" or c == \"\\r\" or c == \"\\n\" or ord(c) == 0x202F:\n",
        "      return True\n",
        "    return False\n",
        "  \n",
        "  examples = []\n",
        "  for entry in input_data:\n",
        "    for paragraph in entry[\"paragraphs\"]:\n",
        "      context = paragraph[\"context\"]\n",
        "      context_tokens = []\n",
        "      char_to_word_offset = []\n",
        "      prev_is_whitespace = True\n",
        "      for c in context:\n",
        "        if is_whitespace(c):\n",
        "          prev_is_whitespace = True\n",
        "        else:\n",
        "          if prev_is_whitespace:\n",
        "            context_tokens.append(c)\n",
        "          else:\n",
        "            context_tokens[-1] += c\n",
        "          prev_is_whitespace = False\n",
        "        char_to_word_offset.append(len(context_tokens) - 1)\n",
        "      \n",
        "      for qa in paragraph[\"qas\"]:\n",
        "        qas_id = qa[\"id\"]\n",
        "        question_text = qa[\"question\"]\n",
        "        start_position = None\n",
        "        end_position = None\n",
        "        answer_text = None\n",
        "        \n",
        "        answer_text = qa[\"answers\"][0][\"text\"]\n",
        "        answer_offset = qa[\"answers\"][0][\"answer_start\"]\n",
        "        answer_length = len(answer_text)\n",
        "        start_position = char_to_word_offset[answer_offset]\n",
        "        end_position = char_to_word_offset[answer_offset + answer_length - 1]\n",
        "\n",
        "        example = SquadExample(\n",
        "            qas_id=qas_id,\n",
        "            question_text=question_text,\n",
        "            context_tokens=context_tokens,\n",
        "            answer_text=answer_text,\n",
        "            start_position=start_position,\n",
        "            end_position=end_position)\n",
        "        examples.append(example)\n",
        "\n",
        "  return examples"
      ],
      "execution_count": 0,
      "outputs": []
    },
    {
      "metadata": {
        "id": "pDoW0JIZx6F_",
        "colab_type": "code",
        "colab": {}
      },
      "cell_type": "code",
      "source": [
        "def checkSquadExample(num):\n",
        "  print('qas_id:', examples[num].qas_id)\n",
        "  print('question_text:', examples[num].question_text)\n",
        "  print('context_tokens:', examples[num].context_tokens)\n",
        "  print('answer_text:',examples[num].answer_text)\n",
        "  print('start_position:', examples[num].start_position)\n",
        "  print('end_position:', examples[num].end_position)"
      ],
      "execution_count": 0,
      "outputs": []
    },
    {
      "metadata": {
        "id": "nowqmQd74i0T",
        "colab_type": "code",
        "colab": {}
      },
      "cell_type": "code",
      "source": [
        "examples = read_squad_examples(data['data'])"
      ],
      "execution_count": 0,
      "outputs": []
    },
    {
      "metadata": {
        "id": "SS47PZLeMpZ1",
        "colab_type": "code",
        "outputId": "627716c4-9a9a-4d76-f48e-fa44e6507eee",
        "colab": {
          "base_uri": "https://localhost:8080/",
          "height": 35
        }
      },
      "cell_type": "code",
      "source": [
        "len(examples)"
      ],
      "execution_count": 0,
      "outputs": [
        {
          "output_type": "execute_result",
          "data": {
            "text/plain": [
              "60407"
            ]
          },
          "metadata": {
            "tags": []
          },
          "execution_count": 66
        }
      ]
    },
    {
      "metadata": {
        "id": "P5AdvWX88zId",
        "colab_type": "code",
        "outputId": "ed5a4ba2-2a59-4c4f-9d7f-fe617a9a1fb1",
        "colab": {
          "base_uri": "https://localhost:8080/",
          "height": 141
        }
      },
      "cell_type": "code",
      "source": [
        "checkSquadExample(500)"
      ],
      "execution_count": 0,
      "outputs": [
        {
          "output_type": "stream",
          "text": [
            "qas_id: 6484373-1-1\n",
            "question_text: 농심그룹의 유통회사는 무엇인가?\n",
            "context_tokens: ['농심그룹은', '사업주', '일가가', '농심홀딩스를', '통해', '식품사업인', \"'농심'과\", '화학사업인', \"'율촌화학'을\", '경영하고', '있다.', '농심은', '창업주인', '신춘호', '회장', '체제에서', '2세', '경영이', '한창', '진행', '중이다.', '그', '주인공은', '신', '회장의', '세', '아들인', '신동원(장남)', '농심', '부회장과', '신동윤(차남)', '율촌화학', '부회장,', '신동익(삼남)', '메가마트', '부회장이다.', '장남에게는', '식품사업을,', '차남에게는', '화학사업을', '맡기고,', '삼남에게는', '유통회사인', '메가마트', '경영을', '넘기며', '계열', '분리를', '준비해왔다.', '신춘호', '회장은', '2세', '중', '누구에게', '회사', '를', '맡기겠다고', '공식적으로', '밝힌', '적은', '없다.', '다만', '20', '여', '년', '전부터', '업무를', '차별화하고,', '지주사인', '농심홀딩스', '지분을', '차등', '배분하는', '방식으로', '후계구도를', '잤다.', '2017년', '5월과', '6월에', '진행된', '농심의', '지분', '변화가', '눈에', '띈다.', '5월', '4일', '신동원', '농심', '부회장과', '신동윤', '율촌화학', '부회장은', '자신들이', '보유하던', '상대방', '회사의', '주식을', '서로', '주고받아', '각자의', '회사', '지분을', '늘렸다.', '이', '주식', '교환으로', '장남은', '농심홀딩스', '지분을', '36.93%에서', '42.92%로', '늘렸고,', '차남은', '율촌화학', '지분을', '5.10%에서', '13.93%로', '확대했다.', '농심의', '지주회사인', '농심홀딩스의', '최대주주인', '신동원', '부회장은', '지배력이', '한층', '강화됐다.', '6월', '1일에는', '신춘호', '회장이', '자신의', '농심', '주식', '10만주를', '신동익', '메가마트', '부회장에게', '증여했다.', '이', '증여로', '셋째', '아들은', '1.64%의', '지분율이지만', '처음으로', '농심', '주식을', '보유하게', '됐다.', '또', '농심그룹의', '매출', '중', '절반', '가량을', '차지', '하고', '있는', \"'농심'을\", '장남인', '신동원', '부회장이', '이끌고', '있다.', '이', '때문에', '농심은', '장자인', '신동원', '부회장에게', '승계될', '것으로', '추측된다.', '또', '삼남에게', '농심', '지분', '일부를', '증여한', '것은', '장남과', '차남에', '비해', '몫이', '적은', '삼남에게', '일부', '지원한', '것이', '아니냐는', '추측이다.']\n",
            "answer_text: 메가마트\n",
            "start_position: 43\n",
            "end_position: 43\n"
          ],
          "name": "stdout"
        }
      ]
    }
  ]
}